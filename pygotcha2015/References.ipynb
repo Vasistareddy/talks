{
 "cells": [
  {
   "cell_type": "markdown",
   "metadata": {},
   "source": [
    "Links\n",
    "\n",
    "   1. https://stackoverflow.com/questions/101268/hidden-features-of-python\n",
    "   1. https://docs.python.org/2/reference/executionmodel.html\n",
    "   1. http://web.archive.org/web/20031002184114/www.amk.ca/python/writing/warts.html\n",
    "   1. http://www.ferg.org/projects/python_gotchas.html\n",
    "   1. http://www.onlamp.com/pub/a/python/2004/02/05/learn_python.html\n",
    "   1. https://wiki.python.org/moin/PythonWarts\n",
    "   1. https://stackoverflow.com/questions/530530/python-2-x-gotchas-and-landmines"
   ]
  },
  {
   "cell_type": "code",
   "execution_count": null,
   "metadata": {},
   "outputs": [],
   "source": []
  }
 ],
 "metadata": {
  "kernelspec": {
   "display_name": "Python 2",
   "language": "python",
   "name": "python2"
  },
  "language_info": {
   "codemirror_mode": {
    "name": "ipython",
    "version": 2
   },
   "file_extension": ".py",
   "mimetype": "text/x-python",
   "name": "python",
   "nbconvert_exporter": "python",
   "pygments_lexer": "ipython2",
   "version": "2.7.15rc1"
  }
 },
 "nbformat": 4,
 "nbformat_minor": 1
}
