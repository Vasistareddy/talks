{
 "cells": [
  {
   "cell_type": "markdown",
   "metadata": {},
   "source": [
    "###### Copyright &copy; Anand B Pillai, Anvetsu Technologies Pvt. Ltd (2015)"
   ]
  },
  {
   "cell_type": "markdown",
   "metadata": {},
   "source": [
    "# Data Structures & Types"
   ]
  },
  {
   "cell_type": "markdown",
   "metadata": {},
   "source": [
    "## 1. Mutable data structures as default arguments"
   ]
  },
  {
   "cell_type": "markdown",
   "metadata": {},
   "source": [
    "### 1.1. Show me the Code!"
   ]
  },
  {
   "cell_type": "code",
   "execution_count": 17,
   "metadata": {},
   "outputs": [],
   "source": [
    "def add_name(names=[]):\n",
    "    \"\"\" Add a name to a list \"\"\"\n",
    "    \n",
    "    name=raw_input(\"Enter name: \").strip()\n",
    "    names.append(name)\n",
    "    return names"
   ]
  },
  {
   "cell_type": "code",
   "execution_count": 18,
   "metadata": {},
   "outputs": [
    {
     "name": "stdout",
     "output_type": "stream",
     "text": [
      "Enter name: Anand\n",
      "['Anand']\n"
     ]
    }
   ],
   "source": [
    "print add_name()"
   ]
  },
  {
   "cell_type": "code",
   "execution_count": 19,
   "metadata": {},
   "outputs": [
    {
     "name": "stdout",
     "output_type": "stream",
     "text": [
      "Enter name: Appu\n",
      "['Anand', 'Appu']\n"
     ]
    }
   ],
   "source": [
    "print add_name()"
   ]
  },
  {
   "cell_type": "code",
   "execution_count": 20,
   "metadata": {},
   "outputs": [
    {
     "name": "stdout",
     "output_type": "stream",
     "text": [
      "Enter name: Dhruv\n",
      "['Anand', 'Appu', 'Dhruv']\n"
     ]
    }
   ],
   "source": [
    "print add_name()"
   ]
  },
  {
   "cell_type": "markdown",
   "metadata": {},
   "source": [
    "## Gotcha !!!"
   ]
  },
  {
   "cell_type": "markdown",
   "metadata": {},
   "source": [
    "#### This is because,\n",
    "\n",
    "   1. The function definition line is evaluated just once and not every time the function is called.\n",
    "   2. This is because Python functions are first class objects."
   ]
  },
  {
   "cell_type": "markdown",
   "metadata": {},
   "source": [
    "### 1.2. Show me the Fix !"
   ]
  },
  {
   "cell_type": "markdown",
   "metadata": {},
   "source": [
    "#### 1.2.1. Use a place-holder value instead of modifying the default value directly."
   ]
  },
  {
   "cell_type": "code",
   "execution_count": 1,
   "metadata": {},
   "outputs": [],
   "source": [
    "def add_name(names=None):\n",
    "    \n",
    "    if names==None:\n",
    "        names = []\n",
    "     \n",
    "    name=raw_input(\"Enter name: \").strip()\n",
    "    names.append(name)\n",
    "    return names   "
   ]
  },
  {
   "cell_type": "code",
   "execution_count": 2,
   "metadata": {},
   "outputs": [
    {
     "name": "stdout",
     "output_type": "stream",
     "text": [
      "Enter name: Anand\n",
      "['Anand']\n"
     ]
    }
   ],
   "source": [
    "print add_name()"
   ]
  },
  {
   "cell_type": "code",
   "execution_count": 3,
   "metadata": {},
   "outputs": [
    {
     "name": "stdout",
     "output_type": "stream",
     "text": [
      "Enter name: Raju\n",
      "['Raju']\n"
     ]
    }
   ],
   "source": [
    "print add_name()"
   ]
  },
  {
   "cell_type": "code",
   "execution_count": 4,
   "metadata": {},
   "outputs": [
    {
     "name": "stdout",
     "output_type": "stream",
     "text": [
      "Enter name: Mehek\n",
      "['Appu', 'Dhruv', 'Mehek']\n"
     ]
    }
   ],
   "source": [
    "names = ['Appu','Dhruv']\n",
    "print add_name(names)"
   ]
  },
  {
   "cell_type": "markdown",
   "metadata": {},
   "source": [
    "##### 1.2.2. Use a sentinel object."
   ]
  },
  {
   "cell_type": "code",
   "execution_count": 7,
   "metadata": {},
   "outputs": [],
   "source": [
    "sentinel = object()\n",
    "def add_name(names=sentinel):\n",
    "    \n",
    "    if names==sentinel:\n",
    "        names = []\n",
    "     \n",
    "    name=raw_input(\"Enter name: \").strip()\n",
    "    names.append(name)\n",
    "    return names   "
   ]
  },
  {
   "cell_type": "code",
   "execution_count": 8,
   "metadata": {},
   "outputs": [
    {
     "name": "stdout",
     "output_type": "stream",
     "text": [
      "Enter name: Shreya\n",
      "['Appu', 'Dhruv', 'Shreya']\n"
     ]
    }
   ],
   "source": [
    "names = ['Appu','Dhruv']\n",
    "print add_name(names)"
   ]
  },
  {
   "cell_type": "markdown",
   "metadata": {},
   "source": [
    "##### 1.2.3. Use an inner function, which is always evaluated from the context of the outer function."
   ]
  },
  {
   "cell_type": "code",
   "execution_count": 11,
   "metadata": {},
   "outputs": [],
   "source": [
    "def add_name():\n",
    "    def inner(names=[]):     \n",
    "        name=raw_input(\"Enter name: \").strip()\n",
    "        names.append(name)\n",
    "        return names\n",
    "    return inner()"
   ]
  },
  {
   "cell_type": "code",
   "execution_count": 12,
   "metadata": {},
   "outputs": [
    {
     "name": "stdout",
     "output_type": "stream",
     "text": [
      "Enter name: Anand\n"
     ]
    },
    {
     "data": {
      "text/plain": [
       "['Anand']"
      ]
     },
     "execution_count": 12,
     "metadata": {},
     "output_type": "execute_result"
    }
   ],
   "source": [
    "add_name()"
   ]
  },
  {
   "cell_type": "code",
   "execution_count": 13,
   "metadata": {},
   "outputs": [
    {
     "name": "stdout",
     "output_type": "stream",
     "text": [
      "Enter name: Appu\n"
     ]
    },
    {
     "data": {
      "text/plain": [
       "['Appu']"
      ]
     },
     "execution_count": 13,
     "metadata": {},
     "output_type": "execute_result"
    }
   ],
   "source": [
    "add_name()"
   ]
  },
  {
   "cell_type": "code",
   "execution_count": 14,
   "metadata": {},
   "outputs": [
    {
     "name": "stdout",
     "output_type": "stream",
     "text": [
      "Enter name: Dhruv\n"
     ]
    },
    {
     "data": {
      "text/plain": [
       "['Dhruv']"
      ]
     },
     "execution_count": 14,
     "metadata": {},
     "output_type": "execute_result"
    }
   ],
   "source": [
    "add_name()"
   ]
  },
  {
   "cell_type": "markdown",
   "metadata": {},
   "source": [
    "#### 1.3. Valid uses of this behavior"
   ]
  },
  {
   "cell_type": "markdown",
   "metadata": {},
   "source": [
    "##### 1.3.1. A caching memoizer pattern"
   ]
  },
  {
   "cell_type": "code",
   "execution_count": 49,
   "metadata": {},
   "outputs": [],
   "source": [
    "def fibonacci(n, memo={}):\n",
    "    \"\"\" Return n'th fibonacci number \"\"\"\n",
    "    \n",
    "    # Uses an inline caching dictionary \n",
    "    # as a memoizing data structure\n",
    "    if n in memo:\n",
    "        print '*** memoized data ***'\n",
    "        return memo[n]\n",
    "    \n",
    "    a, b, c = 0, 1, 1\n",
    "    \n",
    "    for i in range(n-1):\n",
    "        c = a + b\n",
    "        a, b = b, c\n",
    "        \n",
    "    memo[n] = c\n",
    "    return c"
   ]
  },
  {
   "cell_type": "code",
   "execution_count": 50,
   "metadata": {},
   "outputs": [
    {
     "data": {
      "text/plain": [
       "1"
      ]
     },
     "execution_count": 50,
     "metadata": {},
     "output_type": "execute_result"
    }
   ],
   "source": [
    "fibonacci(1)"
   ]
  },
  {
   "cell_type": "code",
   "execution_count": 51,
   "metadata": {},
   "outputs": [
    {
     "name": "stdout",
     "output_type": "stream",
     "text": [
      "*** memoized data ***\n"
     ]
    },
    {
     "data": {
      "text/plain": [
       "1"
      ]
     },
     "execution_count": 51,
     "metadata": {},
     "output_type": "execute_result"
    }
   ],
   "source": [
    "fibonacci(2); fibonacci(2)"
   ]
  },
  {
   "cell_type": "code",
   "execution_count": 52,
   "metadata": {
    "collapsed": true
   },
   "outputs": [
    {
     "name": "stdout",
     "output_type": "stream",
     "text": [
      "*** memoized data ***\n"
     ]
    },
    {
     "data": {
      "text/plain": [
       "2"
      ]
     },
     "execution_count": 52,
     "metadata": {},
     "output_type": "execute_result"
    }
   ],
   "source": [
    "fibonacci(3); fibonacci(3)"
   ]
  },
  {
   "cell_type": "markdown",
   "metadata": {},
   "source": [
    "#### 1.4. More Reading\n",
    "\n",
    "   1. https://stackoverflow.com/questions/1132941/least-astonishment-in-python-the-mutable-default-argument\n",
    "   1. http://effbot.org/zone/default-values.htm"
   ]
  },
  {
   "cell_type": "markdown",
   "metadata": {},
   "source": [
    "## 2. Mutable Argument Modification / Name Binding"
   ]
  },
  {
   "cell_type": "markdown",
   "metadata": {},
   "source": [
    "### 2.1. Show me the Code!"
   ]
  },
  {
   "cell_type": "code",
   "execution_count": 81,
   "metadata": {},
   "outputs": [],
   "source": [
    "def f(x, l):\n",
    "    \"\"\" A function taking a list as argument \"\"\"\n",
    "        \n",
    "    # This is a silly function, really.\n",
    "    \n",
    "    if len(l)<5:          # L1\n",
    "        l = g(x)          # L2 \n",
    "                          # L3\n",
    "    l.append(x)           # L4\n",
    "        \n",
    "def g(x):\n",
    "    \"\"\" A functon \"\"\"\n",
    "    \n",
    "    return [x*x]*5"
   ]
  },
  {
   "cell_type": "code",
   "execution_count": 82,
   "metadata": {},
   "outputs": [
    {
     "name": "stdout",
     "output_type": "stream",
     "text": [
      "[0, 1, 2, 3, 4, 10]\n"
     ]
    }
   ],
   "source": [
    "nums = range(5)\n",
    "f(10, nums)\n",
    "print nums"
   ]
  },
  {
   "cell_type": "code",
   "execution_count": 83,
   "metadata": {},
   "outputs": [
    {
     "name": "stdout",
     "output_type": "stream",
     "text": [
      "[0, 1, 2]\n"
     ]
    }
   ],
   "source": [
    "nums=range(3)\n",
    "f(10, nums)\n",
    "print nums        # 'nums' remains the same. Not surprised ? Good, Surprised - Not so good :)"
   ]
  },
  {
   "cell_type": "markdown",
   "metadata": {},
   "source": [
    "## Gotcha !!!"
   ]
  },
  {
   "cell_type": "markdown",
   "metadata": {},
   "source": [
    "#### This is because,\n",
    "\n",
    "   1. The __nums__ that is replaced in line #2 is a __new__ object recieved from g(...). It doesn't \n",
    "    replace the original object. \n",
    "   2. This is because in Python objects are bound to variables by name. Names _refer_ to objects, they don't bind strongly to them.\n",
    "   3. In order to modify a mutable, you need to call methods on it that modifies it. In case of list, these are _append_, _extend_, _remove_, _pop_ etc."
   ]
  },
  {
   "cell_type": "markdown",
   "metadata": {},
   "source": [
    "### 2.2. Show me the Fix !"
   ]
  },
  {
   "cell_type": "code",
   "execution_count": 84,
   "metadata": {},
   "outputs": [],
   "source": [
    "def f(x, l):\n",
    "    \"\"\" A function taking a list as argument \"\"\"\n",
    "    \n",
    "    if len(l)<5:           # L1\n",
    "        l = g(x)           # L2 \n",
    "                           # L3\n",
    "        \n",
    "    l.append(x)            # L4\n",
    "    \n",
    "    # Return it\n",
    "    return l\n",
    "        \n",
    "def g(x):\n",
    "    \"\"\" A functon \"\"\"\n",
    "    \n",
    "    return ([x]*5)"
   ]
  },
  {
   "cell_type": "code",
   "execution_count": 85,
   "metadata": {},
   "outputs": [
    {
     "name": "stdout",
     "output_type": "stream",
     "text": [
      "[10, 10, 10, 10, 10, 10]\n"
     ]
    }
   ],
   "source": [
    "nums=range(3)\n",
    "nums = f(10, nums)\n",
    "print nums  "
   ]
  },
  {
   "cell_type": "markdown",
   "metadata": {},
   "source": [
    "## 3. Immutable Variable Comparison"
   ]
  },
  {
   "cell_type": "markdown",
   "metadata": {},
   "source": [
    "### 3.1. Show me the Code!"
   ]
  },
  {
   "cell_type": "code",
   "execution_count": 140,
   "metadata": {},
   "outputs": [],
   "source": [
    "def greet(greeting, default_value=\"Hi\"):\n",
    "    \"\"\" Greet someone with a greeting \"\"\"\n",
    "    \n",
    "    if greeting is not default_value:\n",
    "        greeting = default_value + \", \" + greeting\n",
    "    \n",
    "    print greeting"
   ]
  },
  {
   "cell_type": "code",
   "execution_count": 127,
   "metadata": {},
   "outputs": [
    {
     "name": "stdout",
     "output_type": "stream",
     "text": [
      "Hi\n"
     ]
    }
   ],
   "source": [
    "# Test 1\n",
    "greet(\"Hi\")"
   ]
  },
  {
   "cell_type": "code",
   "execution_count": 112,
   "metadata": {},
   "outputs": [
    {
     "name": "stdout",
     "output_type": "stream",
     "text": [
      "Hi, Good Morning\n"
     ]
    }
   ],
   "source": [
    "# Test 2\n",
    "greet(\"Good Morning\")"
   ]
  },
  {
   "cell_type": "code",
   "execution_count": 115,
   "metadata": {},
   "outputs": [
    {
     "name": "stdout",
     "output_type": "stream",
     "text": [
      "Hello there, Good Morning\n"
     ]
    }
   ],
   "source": [
    "# Test 3\n",
    "greet(\"Good Morning\", \"Hello there\")              "
   ]
  },
  {
   "cell_type": "code",
   "execution_count": 133,
   "metadata": {},
   "outputs": [
    {
     "name": "stdout",
     "output_type": "stream",
     "text": [
      "Hello there\n"
     ]
    }
   ],
   "source": [
    "# Test 4\n",
    "greet(\"Hello there\", \"Hello there\")      # Fine"
   ]
  },
  {
   "cell_type": "code",
   "execution_count": 141,
   "metadata": {},
   "outputs": [
    {
     "name": "stdout",
     "output_type": "stream",
     "text": [
      "Hi, how do you do!\n"
     ]
    }
   ],
   "source": [
    "# Test 5\n",
    "greet(\"Hi, how do you do!\", \"Hi, how do you do!\")"
   ]
  },
  {
   "cell_type": "code",
   "execution_count": 142,
   "metadata": {},
   "outputs": [
    {
     "name": "stdout",
     "output_type": "stream",
     "text": [
      "Hello there, Hello there\n"
     ]
    }
   ],
   "source": [
    "# Test 6\n",
    "greeting=\"Hello there\"\n",
    "greet(greeting, default_value=\"Hello there\")         # Hmmm, not what you expected ?"
   ]
  },
  {
   "cell_type": "markdown",
   "metadata": {},
   "source": [
    "## Gotcha !!!"
   ]
  },
  {
   "cell_type": "markdown",
   "metadata": {},
   "source": [
    "#### This is because,\n",
    "\n",
    "   1. You used __is__,  the identity comparison operator instead of __!=__, the equality comparison operator.\n",
    "   1. However, the code still works as expected in __Test 4__ above because Python optimizes string memory for literal strings. Since\n",
    "    both arguments are passed as literal strings and their value is the same, Python creates the object just once for both arguments, \n",
    "    so the _is_ comparison works.\n",
    "   1. In __Test 6__, we use a separate name _greeting_ for the first argument and the literal string for the second. Hence Python doesn't \n",
    "    get a chance to optimize in this case and the _is_ comparison fails.\n",
    "  "
   ]
  },
  {
   "cell_type": "markdown",
   "metadata": {},
   "source": [
    "### 3.2. Show me the Fix !"
   ]
  },
  {
   "cell_type": "code",
   "execution_count": 143,
   "metadata": {},
   "outputs": [],
   "source": [
    "def greet(greeting, default_value=\"Hi\"):\n",
    "    \"\"\" Greet someone with a greeting \"\"\"\n",
    "    \n",
    "    # Simple: Use == or != operator always\n",
    "    if greeting != default_value:\n",
    "        greeting = default_value + \", \" + greeting\n",
    "    \n",
    "    print greeting"
   ]
  },
  {
   "cell_type": "code",
   "execution_count": 144,
   "metadata": {},
   "outputs": [
    {
     "name": "stdout",
     "output_type": "stream",
     "text": [
      "Hello there\n"
     ]
    }
   ],
   "source": [
    "# Test 4\n",
    "greet(\"Hello there\", \"Hello there\")  "
   ]
  },
  {
   "cell_type": "code",
   "execution_count": 145,
   "metadata": {},
   "outputs": [
    {
     "name": "stdout",
     "output_type": "stream",
     "text": [
      "Hello there\n"
     ]
    }
   ],
   "source": [
    "# Test 6\n",
    "greeting=\"Hello there\"\n",
    "greet(greeting, default_value=\"Hello there\")"
   ]
  },
  {
   "cell_type": "markdown",
   "metadata": {},
   "source": [
    "## 4. Integer vs Float Division"
   ]
  },
  {
   "cell_type": "markdown",
   "metadata": {},
   "source": [
    "#### Integer division in Python always produces an integer result, ignoring the fractional part. Moreover, it __floors__ the result which can sometimes be a little confusing. "
   ]
  },
  {
   "cell_type": "markdown",
   "metadata": {},
   "source": [
    "### 4.1. Show me the Code!"
   ]
  },
  {
   "cell_type": "code",
   "execution_count": 146,
   "metadata": {},
   "outputs": [
    {
     "data": {
      "text/plain": [
       "2"
      ]
     },
     "execution_count": 146,
     "metadata": {},
     "output_type": "execute_result"
    }
   ],
   "source": [
    "5/2  # Not 2.5, but 2, i.e the answer rounded off"
   ]
  },
  {
   "cell_type": "code",
   "execution_count": 148,
   "metadata": {},
   "outputs": [
    {
     "data": {
      "text/plain": [
       "-3"
      ]
     },
     "execution_count": 148,
     "metadata": {},
     "output_type": "execute_result"
    }
   ],
   "source": [
    "-5/2 # Prints -3, not -2, i.e answer is floored away from zero"
   ]
  },
  {
   "cell_type": "markdown",
   "metadata": {},
   "source": [
    "### 4.2. Notes"
   ]
  },
  {
   "cell_type": "markdown",
   "metadata": {},
   "source": [
    "This is pretty well known behaviour of Python. It is not exactly a Gotcha, but newbie programmers are caught off-guard when\n",
    "they encounter this behaviour for the first time. It does take a while to get used to it."
   ]
  },
  {
   "cell_type": "markdown",
   "metadata": {},
   "source": [
    "### 4.3. Workarounds"
   ]
  },
  {
   "cell_type": "markdown",
   "metadata": {},
   "source": [
    "#### 4.3.2 Workaround #1 - Specifically use float division"
   ]
  },
  {
   "cell_type": "code",
   "execution_count": 156,
   "metadata": {},
   "outputs": [
    {
     "name": "stdout",
     "output_type": "stream",
     "text": [
      "2.5\n"
     ]
    }
   ],
   "source": [
    "# Just remember to convert one of the numbers to float, typically multiplying by 1.0.\n",
    "# This is what I do.\n",
    "\n",
    "x=5\n",
    "y=1.0*x/2\n",
    "print y"
   ]
  },
  {
   "cell_type": "code",
   "execution_count": 157,
   "metadata": {},
   "outputs": [
    {
     "name": "stdout",
     "output_type": "stream",
     "text": [
      "2.5\n"
     ]
    }
   ],
   "source": [
    "x=5\n",
    "y=x/2.0\n",
    "print y"
   ]
  },
  {
   "cell_type": "markdown",
   "metadata": {},
   "source": [
    "#### 4.3.2 Workaround #2 - Backported from future"
   ]
  },
  {
   "cell_type": "code",
   "execution_count": 152,
   "metadata": {},
   "outputs": [
    {
     "name": "stdout",
     "output_type": "stream",
     "text": [
      "True division => 2.5\n",
      "Floor division => 2\n"
     ]
    }
   ],
   "source": [
    "from __future__ import division\n",
    "\n",
    "print \"True division =>\", 5 / 2\n",
    "print \"Floor division =>\", 5 // 2"
   ]
  },
  {
   "cell_type": "markdown",
   "metadata": {},
   "source": [
    "For Python 2.x, import __division__ from the future (means a feature backported from Python 3.x). Then\n",
    "you get two division operators, __/__ performing true division and the new __//__ performing floor division."
   ]
  },
  {
   "cell_type": "markdown",
   "metadata": {},
   "source": [
    "#### 4.3.3 Workaround #3 - Use decimal module"
   ]
  },
  {
   "cell_type": "code",
   "execution_count": 189,
   "metadata": {},
   "outputs": [
    {
     "name": "stdout",
     "output_type": "stream",
     "text": [
      "2.5\n"
     ]
    }
   ],
   "source": [
    "import decimal\n",
    "\n",
    "x=decimal.Decimal(5)\n",
    "y=decimal.Decimal(2)\n",
    "z=x/y\n",
    "print z"
   ]
  },
  {
   "cell_type": "markdown",
   "metadata": {},
   "source": [
    "__NOTE__ - Above is overkill for such a simple example. __Decimal__ types are more useful to get absolute precision for your floating point numbers. We will see another example below."
   ]
  },
  {
   "cell_type": "markdown",
   "metadata": {},
   "source": [
    "#### 4.4. More Reading\n",
    "\n",
    "   1. http://python-history.blogspot.in/2010/08/why-pythons-integer-division-floors.html\n",
    "   1. https://stackoverflow.com/questions/183853/in-python-what-is-the-difference-between-and-when-used-for-division"
   ]
  },
  {
   "cell_type": "markdown",
   "metadata": {},
   "source": [
    "## 5. Floating Point Precision & Round-Off"
   ]
  },
  {
   "cell_type": "markdown",
   "metadata": {},
   "source": [
    "#### Floating point numbers are always represented as a round-off to their actual internal value. In Python, sometimes these can cause some unexpected results. These are not a bug in the language or your code, but simply some interesting results of the way programming languages represent floating point numbers and display them."
   ]
  },
  {
   "cell_type": "markdown",
   "metadata": {},
   "source": [
    "### 5.1. Precision"
   ]
  },
  {
   "cell_type": "markdown",
   "metadata": {},
   "source": [
    "#### 5.1.1. Show me the Code!"
   ]
  },
  {
   "cell_type": "code",
   "execution_count": 162,
   "metadata": {},
   "outputs": [
    {
     "name": "stdout",
     "output_type": "stream",
     "text": [
      "0.3\n"
     ]
    }
   ],
   "source": [
    "x=0.1\n",
    "y=0.2\n",
    "z=x+y\n",
    "\n",
    "print z # All good"
   ]
  },
  {
   "cell_type": "code",
   "execution_count": 164,
   "metadata": {},
   "outputs": [
    {
     "data": {
      "text/plain": [
       "0.30000000000000004"
      ]
     },
     "execution_count": 164,
     "metadata": {},
     "output_type": "execute_result"
    }
   ],
   "source": [
    "# However,\n",
    "z"
   ]
  },
  {
   "cell_type": "markdown",
   "metadata": {},
   "source": [
    "#### 5.1.2. Notes"
   ]
  },
  {
   "cell_type": "markdown",
   "metadata": {},
   "source": [
    "##### What is happening here ? \n",
    "\n",
    "When you print the variable z, print takes care to represent the number rounded off to the closest\n",
    "value. However when you inspect the number by not printing it, you get to see the actual number internally represented.\n",
    "Technically this is called a __Representation Error__ ."
   ]
  },
  {
   "cell_type": "markdown",
   "metadata": {},
   "source": [
    "### 5.2 Round-off"
   ]
  },
  {
   "cell_type": "markdown",
   "metadata": {},
   "source": [
    "#### 5.2.1. Show me the Code!"
   ]
  },
  {
   "cell_type": "code",
   "execution_count": 177,
   "metadata": {},
   "outputs": [
    {
     "name": "stdout",
     "output_type": "stream",
     "text": [
      "0.33\n"
     ]
    }
   ],
   "source": [
    "x = 0.325\n",
    "print round(x, 2) # Good"
   ]
  },
  {
   "cell_type": "code",
   "execution_count": 178,
   "metadata": {},
   "outputs": [
    {
     "name": "stdout",
     "output_type": "stream",
     "text": [
      "0.36\n"
     ]
    }
   ],
   "source": [
    "x = 0.365\n",
    "print round(x, 2) # What the ...!!!"
   ]
  },
  {
   "cell_type": "markdown",
   "metadata": {},
   "source": [
    "#### 5.2.2. Notes"
   ]
  },
  {
   "cell_type": "markdown",
   "metadata": {},
   "source": [
    "##### What is happening here ? \n",
    "\n",
    "Since the decimal fraction 0.365 is exactly half-way between 0.37 and 0.38, sometimes it could be represented by a binary\n",
    "fraction which is closer to 0.36 than it is closer to 0.37. But how to find the exact precision of a float in Python ?"
   ]
  },
  {
   "cell_type": "code",
   "execution_count": 183,
   "metadata": {},
   "outputs": [
    {
     "data": {
      "text/plain": [
       "0.365"
      ]
     },
     "execution_count": 183,
     "metadata": {},
     "output_type": "execute_result"
    }
   ],
   "source": [
    "x=0.365\n",
    "x  # Doesn't help!"
   ]
  },
  {
   "cell_type": "code",
   "execution_count": 205,
   "metadata": {},
   "outputs": [
    {
     "data": {
      "text/plain": [
       "Decimal('0.3649999999999999911182158029987476766109466552734375')"
      ]
     },
     "execution_count": 205,
     "metadata": {},
     "output_type": "execute_result"
    }
   ],
   "source": [
    "# Solution - Use decimal module\n",
    "\n",
    "import decimal\n",
    "decimal.Decimal(0.365)"
   ]
  },
  {
   "cell_type": "code",
   "execution_count": 204,
   "metadata": {},
   "outputs": [
    {
     "data": {
      "text/plain": [
       "Decimal('0.325000000000000011102230246251565404236316680908203125')"
      ]
     },
     "execution_count": 204,
     "metadata": {},
     "output_type": "execute_result"
    }
   ],
   "source": [
    "decimal.Decimal(0.325) # Now you understand why 0.325 nicely rounds to 0.33 "
   ]
  },
  {
   "cell_type": "markdown",
   "metadata": {},
   "source": [
    "As you can see, 0.365 is internally represented by 0.3649999999999999911182158029987476766109466552734375 which is closer to 0.36 when rounded off to 2 decimal places. Which is why round(0.365) produces 0.36."
   ]
  },
  {
   "cell_type": "markdown",
   "metadata": {},
   "source": [
    "#### 5.2.3. Workarounds"
   ]
  },
  {
   "cell_type": "markdown",
   "metadata": {},
   "source": [
    "##### 5.2.3.1 Use ceil for rounding up"
   ]
  },
  {
   "cell_type": "code",
   "execution_count": 199,
   "metadata": {},
   "outputs": [
    {
     "data": {
      "text/plain": [
       "0.37"
      ]
     },
     "execution_count": 199,
     "metadata": {},
     "output_type": "execute_result"
    }
   ],
   "source": [
    "import math\n",
    "\n",
    "x=0.365\n",
    "\n",
    "# Multiple and divide by power of 10 equal to precision required\n",
    "math.ceil(pow(10,2)*x)/pow(10,2)"
   ]
  },
  {
   "cell_type": "markdown",
   "metadata": {},
   "source": [
    "##### 5.2.3.2 Use decimal module"
   ]
  },
  {
   "cell_type": "code",
   "execution_count": 201,
   "metadata": {},
   "outputs": [
    {
     "name": "stdout",
     "output_type": "stream",
     "text": [
      "0.37\n"
     ]
    }
   ],
   "source": [
    "from decimal import *\n",
    "\n",
    "x=Decimal(0.365).quantize(Decimal('0.01'), rounding=ROUND_UP)\n",
    "y=round(x, 2)\n",
    "print y"
   ]
  },
  {
   "cell_type": "markdown",
   "metadata": {},
   "source": [
    "#### 5.3. More Reading\n",
    "\n",
    "   1. https://docs.python.org/2/tutorial/floatingpoint.html\n",
    "   1. https://stackoverflow.com/questions/4518641/how-to-round-off-a-floating-number-in-python"
   ]
  },
  {
   "cell_type": "markdown",
   "metadata": {},
   "source": [
    "# 6. Modifying Mutables inside Immutables"
   ]
  },
  {
   "cell_type": "markdown",
   "metadata": {},
   "source": [
    "#### When you have mutables (lists, dictionaries) as elements inside immutables (tuples here) you can have some unexpected results when trying to modify the former."
   ]
  },
  {
   "cell_type": "markdown",
   "metadata": {},
   "source": [
    "### 6.1. Show me the Code!"
   ]
  },
  {
   "cell_type": "code",
   "execution_count": 236,
   "metadata": {},
   "outputs": [],
   "source": [
    "def make_shipment(container, items, index=0):\n",
    "    \"\"\" Modify objects to be shipped in 'container' by adding\n",
    "    objects from 'items' into it at index 'index' \"\"\"\n",
    "    \n",
    "    # container is a tuple containing lists\n",
    "    container[index] += items"
   ]
  },
  {
   "cell_type": "code",
   "execution_count": 237,
   "metadata": {},
   "outputs": [
    {
     "ename": "TypeError",
     "evalue": "'tuple' object does not support item assignment",
     "output_type": "error",
     "traceback": [
      "\u001b[1;31m---------------------------------------------------------------------------\u001b[0m\n\u001b[1;31mTypeError\u001b[0m                                 Traceback (most recent call last)",
      "\u001b[1;32m<ipython-input-237-13413bd5897d>\u001b[0m in \u001b[0;36m<module>\u001b[1;34m()\u001b[0m\n\u001b[0;32m      1\u001b[0m \u001b[1;31m# Real-life example - container of items to be exported\u001b[0m\u001b[1;33m\u001b[0m\u001b[1;33m\u001b[0m\u001b[0m\n\u001b[0;32m      2\u001b[0m \u001b[0mcontainer\u001b[0m \u001b[1;33m=\u001b[0m \u001b[1;33m(\u001b[0m\u001b[1;33m[\u001b[0m\u001b[1;34m'apples'\u001b[0m\u001b[1;33m,\u001b[0m\u001b[1;34m'mangoes'\u001b[0m\u001b[1;33m,\u001b[0m\u001b[1;34m'oranges'\u001b[0m\u001b[1;33m]\u001b[0m\u001b[1;33m,\u001b[0m \u001b[1;33m[\u001b[0m\u001b[1;34m'silk'\u001b[0m\u001b[1;33m,\u001b[0m\u001b[1;34m'cotton'\u001b[0m\u001b[1;33m,\u001b[0m\u001b[1;34m'wool'\u001b[0m\u001b[1;33m]\u001b[0m\u001b[1;33m)\u001b[0m\u001b[1;33m\u001b[0m\u001b[0m\n\u001b[1;32m----> 3\u001b[1;33m \u001b[0mmake_shipment\u001b[0m\u001b[1;33m(\u001b[0m\u001b[0mcontainer\u001b[0m\u001b[1;33m,\u001b[0m \u001b[1;33m[\u001b[0m\u001b[1;34m'papayas'\u001b[0m\u001b[1;33m]\u001b[0m\u001b[1;33m)\u001b[0m\u001b[1;33m\u001b[0m\u001b[0m\n\u001b[0m",
      "\u001b[1;32m<ipython-input-236-2d9b92e7bca4>\u001b[0m in \u001b[0;36mmake_shipment\u001b[1;34m(container, items, index)\u001b[0m\n\u001b[0;32m      4\u001b[0m \u001b[1;33m\u001b[0m\u001b[0m\n\u001b[0;32m      5\u001b[0m     \u001b[1;31m# container is a tuple containing lists\u001b[0m\u001b[1;33m\u001b[0m\u001b[1;33m\u001b[0m\u001b[0m\n\u001b[1;32m----> 6\u001b[1;33m     \u001b[0mcontainer\u001b[0m\u001b[1;33m[\u001b[0m\u001b[0mindex\u001b[0m\u001b[1;33m]\u001b[0m \u001b[1;33m+=\u001b[0m \u001b[0mitems\u001b[0m\u001b[1;33m\u001b[0m\u001b[0m\n\u001b[0m",
      "\u001b[1;31mTypeError\u001b[0m: 'tuple' object does not support item assignment"
     ]
    }
   ],
   "source": [
    "# Real-life example - container of items to be exported\n",
    "container = (['apples','mangoes','oranges'], ['silk','cotton','wool'])\n",
    "make_shipment(container, ['papayas'])"
   ]
  },
  {
   "cell_type": "markdown",
   "metadata": {},
   "source": [
    "#### However, "
   ]
  },
  {
   "cell_type": "code",
   "execution_count": 239,
   "metadata": {},
   "outputs": [
    {
     "name": "stdout",
     "output_type": "stream",
     "text": [
      "(['apples', 'mangoes', 'oranges', 'papayas'], ['silk', 'cotton', 'wool'])\n"
     ]
    }
   ],
   "source": [
    "print container # But container is modified as well!"
   ]
  },
  {
   "cell_type": "markdown",
   "metadata": {},
   "source": [
    "## Gotcha !!!"
   ]
  },
  {
   "cell_type": "markdown",
   "metadata": {},
   "source": [
    "#### This is because,\n",
    " \n",
    "    1. For mutable types in Python,\n",
    "    \n",
    "    >>> x += [y]\n",
    "    \n",
    "    is not exactly the same as,\n",
    "    \n",
    "    >>> x = x + [y]\n",
    "    \n",
    "    2. In the first one, __x__ remains the same, but in second case, a new object is created and assigned to __x__ .\n",
    "    3. Hence when,\n",
    "    \n",
    "        container[index] += items\n",
    "        \n",
    "    is performed, the referenced list changes in-place. The item assignment doesn't work, but when the exception \n",
    "    occurs, the item has already been changed in place."
   ]
  },
  {
   "cell_type": "markdown",
   "metadata": {},
   "source": [
    "### 6.2. Show me the Fix!"
   ]
  },
  {
   "cell_type": "code",
   "execution_count": 241,
   "metadata": {},
   "outputs": [],
   "source": [
    "def make_shipment(container, items, index=0):\n",
    "    \"\"\" Modify objects to be shipped in 'container' by adding\n",
    "    objects from 'items' into it at index 'index' \"\"\"\n",
    "    \n",
    "    # container is a tuple containing lists\n",
    "    # Use .extend(...)\n",
    "    container[index].extend(items)"
   ]
  },
  {
   "cell_type": "code",
   "execution_count": 243,
   "metadata": {},
   "outputs": [
    {
     "name": "stdout",
     "output_type": "stream",
     "text": [
      "(['apples', 'mangoes', 'oranges', 'papayas'], ['silk', 'cotton', 'wool'])\n"
     ]
    }
   ],
   "source": [
    "# Real-life example - container of items to be exported\n",
    "container = (['apples','mangoes','oranges'], ['silk','cotton','wool'])\n",
    "make_shipment(container, ['papayas'])\n",
    "print container"
   ]
  },
  {
   "cell_type": "code",
   "execution_count": 245,
   "metadata": {},
   "outputs": [],
   "source": [
    "def make_shipment(container, items, index=0):\n",
    "    \"\"\" Modify objects to be shipped in 'container' by adding\n",
    "    objects from 'items' into it at index 'index' \"\"\"\n",
    "    \n",
    "    # container is a tuple containing lists\n",
    "    # Or retrieve the item at index to a variable\n",
    "    item = container[index]\n",
    "    # Then add to it.\n",
    "    item += items"
   ]
  },
  {
   "cell_type": "code",
   "execution_count": 246,
   "metadata": {},
   "outputs": [
    {
     "name": "stdout",
     "output_type": "stream",
     "text": [
      "(['apples', 'mangoes', 'oranges', 'papayas'], ['silk', 'cotton', 'wool'])\n"
     ]
    }
   ],
   "source": [
    "# Real-life example - container of items to be exported\n",
    "container = (['apples','mangoes','oranges'], ['silk','cotton','wool'])\n",
    "make_shipment(container, ['papayas'])\n",
    "print container"
   ]
  },
  {
   "cell_type": "markdown",
   "metadata": {},
   "source": [
    "#### 6.3. More Reading\n",
    "\n",
    "   1. http://web.archive.org/web/20031203024741/http://zephyrfalcon.org/labs/python_pitfalls.html"
   ]
  },
  {
   "cell_type": "markdown",
   "metadata": {},
   "source": [
    "# 7. Boolean Type Fallacy "
   ]
  },
  {
   "cell_type": "markdown",
   "metadata": {},
   "source": [
    "#### Python doesn't respect its own boolean types. In fact, the two boolean types __True__ and __False__ can be quite flexible if you chose them to be. A developer can (often accidentally) overwrite Python's boolean types causing all kinds of problems and in this case, a bit of fun :)"
   ]
  },
  {
   "cell_type": "markdown",
   "metadata": {},
   "source": [
    "### 7.1. Show me the Fun!"
   ]
  },
  {
   "cell_type": "markdown",
   "metadata": {},
   "source": [
    "#### This show is named __\"The Blind Truthness of Falsehood\"__"
   ]
  },
  {
   "cell_type": "code",
   "execution_count": 230,
   "metadata": {},
   "outputs": [
    {
     "name": "stdout",
     "output_type": "stream",
     "text": [
      "True\n",
      "False\n",
      "Love is blind\n",
      "Hate is False\n",
      "Love is blind\n",
      "Love is blind as well as blind\n",
      "Hate is blind\n",
      "Hate is blind as well as blind\n",
      "\n",
      "GO AHEAD, SHOOT ME IN THE HEAD !\n",
      "I am dead\n"
     ]
    }
   ],
   "source": [
    "\n",
    "print True\n",
    "print False\n",
    "\n",
    "x='blind'\n",
    "True=x\n",
    "\n",
    "## Fun\n",
    "print 'Love is',True\n",
    "print 'Hate is',not x\n",
    "\n",
    "# Now watch the fun!\n",
    "\n",
    "# Python allows you to overwrite its default boolean types.\n",
    "False=True # Yes you can do this in #Python.\n",
    "\n",
    "print 'Love is',x # What do you expect to get printed ?\n",
    "print 'Love is',True,'as well as',False\n",
    "\n",
    "\n",
    "print 'Hate is',False # What do you expect to get printed ?\n",
    "print 'Hate is',False,'as well as',False\n",
    "\n",
    "print \n",
    "\n",
    "# REAL-LIFE, NEAR-DEATH EXAMPLE \n",
    "\n",
    "# Point-blank situation\n",
    "no_bullet_in_gun = False\n",
    "\n",
    "if no_bullet_in_gun:\n",
    "    print \"GO AHEAD, SHOOT ME IN THE HEAD !\" # Goes ahead... your life ends here.\n",
    "    True='dead'\n",
    "else:\n",
    "    print \"NO PLEASE... I BEG YOU TO SPARE ME...!\"\n",
    "    True='alive'\n",
    "    \n",
    "print 'I am',True"
   ]
  },
  {
   "cell_type": "code",
   "execution_count": 229,
   "metadata": {},
   "outputs": [
    {
     "name": "stdout",
     "output_type": "stream",
     "text": [
      "NO PLEASE... I BEG YOU TO SPARE ME...!\n",
      "I am alive\n"
     ]
    }
   ],
   "source": [
    "# Reset our world to sanity\n",
    "\n",
    "True, False=bool(1), bool(0)\n",
    "\n",
    "no_bullet_in_gun=False\n",
    "\n",
    "if no_bullet_in_gun:\n",
    "    print \"GO AHEAD, SHOOT ME IN THE HEAD !\" \n",
    "    x='dead'\n",
    "else:\n",
    "    print \"NO PLEASE... I BEG YOU TO SPARE ME...!\"  # Spares you, you live to write more code in Python, but\n",
    "    x='alive'                                       # hopefully not like the one above.\n",
    "    \n",
    "print 'I am',x"
   ]
  },
  {
   "cell_type": "markdown",
   "metadata": {},
   "source": [
    "### 7.2. Show me the Fix !"
   ]
  },
  {
   "cell_type": "markdown",
   "metadata": {},
   "source": [
    "#### You are kidding right ?"
   ]
  },
  {
   "cell_type": "markdown",
   "metadata": {},
   "source": [
    "Word of advice - Don't overwrite your boolean types though Python allows it. It is harmful to health."
   ]
  },
  {
   "cell_type": "markdown",
   "metadata": {},
   "source": [
    "###### Copyright &copy; Anand B Pillai, Anvetsu Technologies Pvt. Ltd (2015)"
   ]
  }
 ],
 "metadata": {
  "kernelspec": {
   "display_name": "Python 2",
   "language": "python",
   "name": "python2"
  },
  "language_info": {
   "codemirror_mode": {
    "name": "ipython",
    "version": 2
   },
   "file_extension": ".py",
   "mimetype": "text/x-python",
   "name": "python",
   "nbconvert_exporter": "python",
   "pygments_lexer": "ipython2",
   "version": "2.7.15rc1"
  }
 },
 "nbformat": 4,
 "nbformat_minor": 1
}
