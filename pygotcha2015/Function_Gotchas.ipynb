{
 "cells": [
  {
   "cell_type": "markdown",
   "metadata": {},
   "source": [
    "###### Copyright &copy; Anand B Pillai, Anvetsu Technologies Pvt. Ltd (2015)"
   ]
  },
  {
   "cell_type": "markdown",
   "metadata": {},
   "source": [
    "# Functions"
   ]
  },
  {
   "cell_type": "markdown",
   "metadata": {},
   "source": [
    "## 1. Calling functions with default arguments"
   ]
  },
  {
   "cell_type": "markdown",
   "metadata": {},
   "source": [
    "### 1.1. Show me the Code!"
   ]
  },
  {
   "cell_type": "code",
   "execution_count": 2,
   "metadata": {},
   "outputs": [],
   "source": [
    "def greet(greeting, default_value=\"Hi\"):\n",
    "    \"\"\" Greet someone with a greeting \"\"\"\n",
    "    \n",
    "    # Simple: Use == or != operator always\n",
    "    if greeting != default_value:\n",
    "        greeting = default_value + \", \" + greeting\n",
    "    \n",
    "    print greeting"
   ]
  },
  {
   "cell_type": "code",
   "execution_count": 3,
   "metadata": {},
   "outputs": [
    {
     "name": "stdout",
     "output_type": "stream",
     "text": [
      "Hi, Hello there\n"
     ]
    }
   ],
   "source": [
    "greet(\"Hello there\") # Uses default_value's default value"
   ]
  },
  {
   "cell_type": "code",
   "execution_count": 5,
   "metadata": {},
   "outputs": [
    {
     "name": "stdout",
     "output_type": "stream",
     "text": [
      "Good Morning, Hello there\n"
     ]
    }
   ],
   "source": [
    "greet(\"Hello there\", \"Good Morning\") # Uses default value as \"Good Morning\""
   ]
  },
  {
   "cell_type": "code",
   "execution_count": 4,
   "metadata": {},
   "outputs": [
    {
     "name": "stdout",
     "output_type": "stream",
     "text": [
      "Hi, Good Morning\n"
     ]
    }
   ],
   "source": [
    "greet(\"Good Morning\") # Uses default_value as default value"
   ]
  },
  {
   "cell_type": "code",
   "execution_count": 6,
   "metadata": {},
   "outputs": [
    {
     "ename": "TypeError",
     "evalue": "greet() takes at least 1 argument (1 given)",
     "output_type": "error",
     "traceback": [
      "\u001b[1;31m---------------------------------------------------------------------------\u001b[0m\n\u001b[1;31mTypeError\u001b[0m                                 Traceback (most recent call last)",
      "\u001b[1;32m<ipython-input-6-3b363802d266>\u001b[0m in \u001b[0;36m<module>\u001b[1;34m()\u001b[0m\n\u001b[1;32m----> 1\u001b[1;33m \u001b[0mgreet\u001b[0m\u001b[1;33m(\u001b[0m\u001b[0mdefault_value\u001b[0m\u001b[1;33m=\u001b[0m\u001b[1;34m\"Good Morning\"\u001b[0m\u001b[1;33m)\u001b[0m  \u001b[1;31m# You forgot to send the first argument but only supplied the default value\u001b[0m\u001b[1;33m\u001b[0m\u001b[0m\n\u001b[0m",
      "\u001b[1;31mTypeError\u001b[0m: greet() takes at least 1 argument (1 given)"
     ]
    }
   ],
   "source": [
    "greet(default_value=\"Good Morning\")  # You forgot to send the first argument but only supplied the default value"
   ]
  },
  {
   "cell_type": "markdown",
   "metadata": {},
   "source": [
    "## Gotcha !!!"
   ]
  },
  {
   "cell_type": "markdown",
   "metadata": {},
   "source": [
    "#### (Did you spot it ?)"
   ]
  },
  {
   "cell_type": "markdown",
   "metadata": {},
   "source": [
    "#### Someone not looking at the function definition and only at the exception traceback would be confused.\n",
    "\n",
    "__TypeError: greet() takes at least 1 argument (1 given)__\n",
    "\n",
    "OK - It takes at least 1 argument and I have given it 1 argument. So what is the problem ?"
   ]
  },
  {
   "cell_type": "markdown",
   "metadata": {},
   "source": [
    "#### This is because,\n",
    "\n",
    "   1. Python does not include the default argument as a required param in the number of params counted for a function. \n",
    "   1. This is because the default argument is a __keyword__ argument, which is optional. Python only counts number of \n",
    "    positional arguments in the error tracebacks it prints for the function.\n",
    "   1. It is rare to make this mistake if you read the function signature correctly, but if you do it is kind of hard to\n",
    "   debug by just looking at the error stack trace.\n",
    "    "
   ]
  },
  {
   "cell_type": "markdown",
   "metadata": {},
   "source": [
    "### 1.2. Show me the Fix !"
   ]
  },
  {
   "cell_type": "markdown",
   "metadata": {},
   "source": [
    "There is no __fix__ for this Gotcha. Always refer to the function signature carefully before calling it. You can also reduce\n",
    "change of such errors by writing proper function doc strings. Python 3.x has something called __Function Annotations__ that\n",
    "allow you to add more metadata on the function arguments and return values which further reduces any chance of such errors."
   ]
  },
  {
   "cell_type": "markdown",
   "metadata": {},
   "source": [
    "## 2. Inconsistencies between global functions acting on sequences."
   ]
  },
  {
   "cell_type": "markdown",
   "metadata": {},
   "source": [
    "__enumerate__, __sorted__ and __reversed__ are some of the most common and useful functions acting on sequences (lists, tuples etc). However their return types are quite different which can often be a nasty surprise, especially for beginners."
   ]
  },
  {
   "cell_type": "markdown",
   "metadata": {},
   "source": [
    "### 2.2. Show me the Code !"
   ]
  },
  {
   "cell_type": "code",
   "execution_count": 8,
   "metadata": {},
   "outputs": [
    {
     "name": "stdout",
     "output_type": "stream",
     "text": [
      "[48, 12, 36, 41, 40, 47, 27, 32, 39, 25]\n"
     ]
    }
   ],
   "source": [
    "# Create a random list\n",
    "import random\n",
    "\n",
    "l = random.sample(range(10, 50), 10)\n",
    "print l"
   ]
  },
  {
   "cell_type": "code",
   "execution_count": 10,
   "metadata": {},
   "outputs": [
    {
     "name": "stdout",
     "output_type": "stream",
     "text": [
      "12\n"
     ]
    }
   ],
   "source": [
    "# Sort it and print first index \n",
    "l_sorted = sorted(l)\n",
    "print l_sorted[0]"
   ]
  },
  {
   "cell_type": "code",
   "execution_count": 15,
   "metadata": {},
   "outputs": [
    {
     "name": "stdout",
     "output_type": "stream",
     "text": [
      "(0, 12)\n",
      "(1, 25)\n",
      "(2, 27)\n",
      "(3, 32)\n",
      "(4, 36)\n",
      "(5, 39)\n",
      "(6, 40)\n",
      "(7, 41)\n",
      "(8, 47)\n",
      "(9, 48)\n"
     ]
    }
   ],
   "source": [
    "# Iterate through enumerated, sorted list\n",
    "for i in enumerate(sorted(l)):\n",
    "    print i"
   ]
  },
  {
   "cell_type": "code",
   "execution_count": 14,
   "metadata": {},
   "outputs": [
    {
     "name": "stdout",
     "output_type": "stream",
     "text": [
      "48\n",
      "47\n",
      "41\n",
      "40\n",
      "39\n",
      "36\n",
      "32\n",
      "27\n",
      "25\n",
      "12\n"
     ]
    }
   ],
   "source": [
    "# Iterate through the reversed sorted list\n",
    "for i in reversed(sorted(l)):\n",
    "    print i"
   ]
  },
  {
   "cell_type": "code",
   "execution_count": 11,
   "metadata": {},
   "outputs": [
    {
     "name": "stdout",
     "output_type": "stream",
     "text": [
      "<listreverseiterator object at 0x7f5e078d9f50>\n"
     ]
    },
    {
     "ename": "TypeError",
     "evalue": "'listreverseiterator' object has no attribute '__getitem__'",
     "output_type": "error",
     "traceback": [
      "\u001b[1;31m---------------------------------------------------------------------------\u001b[0m\n\u001b[1;31mTypeError\u001b[0m                                 Traceback (most recent call last)",
      "\u001b[1;32m<ipython-input-11-af260c0a895b>\u001b[0m in \u001b[0;36m<module>\u001b[1;34m()\u001b[0m\n\u001b[0;32m      2\u001b[0m \u001b[0ml_rsorted\u001b[0m \u001b[1;33m=\u001b[0m \u001b[0mreversed\u001b[0m\u001b[1;33m(\u001b[0m\u001b[0msorted\u001b[0m\u001b[1;33m(\u001b[0m\u001b[0ml\u001b[0m\u001b[1;33m)\u001b[0m\u001b[1;33m)\u001b[0m\u001b[1;33m\u001b[0m\u001b[0m\n\u001b[0;32m      3\u001b[0m \u001b[1;32mprint\u001b[0m \u001b[0ml_rsorted\u001b[0m\u001b[1;33m\u001b[0m\u001b[0m\n\u001b[1;32m----> 4\u001b[1;33m \u001b[1;32mprint\u001b[0m \u001b[0ml_rsorted\u001b[0m\u001b[1;33m[\u001b[0m\u001b[1;36m0\u001b[0m\u001b[1;33m]\u001b[0m\u001b[1;33m\u001b[0m\u001b[0m\n\u001b[0m",
      "\u001b[1;31mTypeError\u001b[0m: 'listreverseiterator' object has no attribute '__getitem__'"
     ]
    }
   ],
   "source": [
    "# Reverse sort it and print first index\n",
    "l_rsorted = reversed(sorted(l))\n",
    "print l_rsorted[0]                     # Problem !"
   ]
  },
  {
   "cell_type": "code",
   "execution_count": 12,
   "metadata": {},
   "outputs": [
    {
     "ename": "TypeError",
     "evalue": "'enumerate' object has no attribute '__getitem__'",
     "output_type": "error",
     "traceback": [
      "\u001b[1;31m---------------------------------------------------------------------------\u001b[0m\n\u001b[1;31mTypeError\u001b[0m                                 Traceback (most recent call last)",
      "\u001b[1;32m<ipython-input-12-c459e40047ad>\u001b[0m in \u001b[0;36m<module>\u001b[1;34m()\u001b[0m\n\u001b[0;32m      1\u001b[0m \u001b[1;31m# Enumerate it and print first index\u001b[0m\u001b[1;33m\u001b[0m\u001b[1;33m\u001b[0m\u001b[0m\n\u001b[0;32m      2\u001b[0m \u001b[0ml_esorted\u001b[0m \u001b[1;33m=\u001b[0m \u001b[0menumerate\u001b[0m\u001b[1;33m(\u001b[0m\u001b[0msorted\u001b[0m\u001b[1;33m(\u001b[0m\u001b[0ml\u001b[0m\u001b[1;33m)\u001b[0m\u001b[1;33m)\u001b[0m\u001b[1;33m\u001b[0m\u001b[0m\n\u001b[1;32m----> 3\u001b[1;33m \u001b[1;32mprint\u001b[0m \u001b[0ml_esorted\u001b[0m\u001b[1;33m[\u001b[0m\u001b[1;36m0\u001b[0m\u001b[1;33m]\u001b[0m\u001b[1;33m\u001b[0m\u001b[0m\n\u001b[0m",
      "\u001b[1;31mTypeError\u001b[0m: 'enumerate' object has no attribute '__getitem__'"
     ]
    }
   ],
   "source": [
    "# Enumerate it and print first index\n",
    "l_esorted = enumerate(sorted(l))\n",
    "print l_esorted[0]                 # Problem !"
   ]
  },
  {
   "cell_type": "markdown",
   "metadata": {},
   "source": [
    "## Gotcha !!!\n",
    "\n",
    "#### This is because,\n",
    "\n",
    "   1. __sorted__ not only sorts a list but returns a sorted list.\n",
    "   1. However, __reversed__ and __enumerate__ produce iterators which can be used in a for loop. But these types are not sequence types, so they don't support methods like item indexing.\n"
   ]
  },
  {
   "cell_type": "markdown",
   "metadata": {},
   "source": [
    "### 2.3. Show me the Fix !"
   ]
  },
  {
   "cell_type": "code",
   "execution_count": 16,
   "metadata": {},
   "outputs": [
    {
     "name": "stdout",
     "output_type": "stream",
     "text": [
      "48\n"
     ]
    }
   ],
   "source": [
    "# Simply cast them to the required type by using 'type(...)'\n",
    "# Casting to list\n",
    "l_rsorted = list(reversed(sorted(l)))\n",
    "print l_rsorted[0]  "
   ]
  },
  {
   "cell_type": "code",
   "execution_count": 18,
   "metadata": {},
   "outputs": [
    {
     "name": "stdout",
     "output_type": "stream",
     "text": [
      "(0, 12)\n"
     ]
    }
   ],
   "source": [
    "# Enumerate it and print first index\n",
    "# Casting to tuple\n",
    "l_esorted = tuple(enumerate(sorted(l)))\n",
    "print l_esorted[0]    "
   ]
  },
  {
   "cell_type": "markdown",
   "metadata": {},
   "source": [
    "## 3. Calling positional arguments"
   ]
  },
  {
   "cell_type": "markdown",
   "metadata": {},
   "source": [
    "#### Python has a syntax for passing any number of unnamed positional arguments to a function. But this can often trip up newbies if you are not careful with its semantics while calling the function."
   ]
  },
  {
   "cell_type": "markdown",
   "metadata": {},
   "source": [
    "### 3.1. Show me the Code !"
   ]
  },
  {
   "cell_type": "code",
   "execution_count": 29,
   "metadata": {},
   "outputs": [],
   "source": [
    "def foo(*args):\n",
    "    \"\"\" A function summing its arguments \"\"\"\n",
    "    \n",
    "    return sum(args)"
   ]
  },
  {
   "cell_type": "code",
   "execution_count": 30,
   "metadata": {},
   "outputs": [
    {
     "ename": "TypeError",
     "evalue": "unsupported operand type(s) for +: 'int' and 'tuple'",
     "output_type": "error",
     "traceback": [
      "\u001b[1;31m---------------------------------------------------------------------------\u001b[0m\n\u001b[1;31mTypeError\u001b[0m                                 Traceback (most recent call last)",
      "\u001b[1;32m<ipython-input-30-ba1ea292b503>\u001b[0m in \u001b[0;36m<module>\u001b[1;34m()\u001b[0m\n\u001b[0;32m      2\u001b[0m \u001b[0ml\u001b[0m\u001b[1;33m=\u001b[0m\u001b[1;33m(\u001b[0m\u001b[1;36m1\u001b[0m\u001b[1;33m,\u001b[0m\u001b[1;36m2\u001b[0m\u001b[1;33m,\u001b[0m\u001b[1;36m3\u001b[0m\u001b[1;33m,\u001b[0m\u001b[1;36m4\u001b[0m\u001b[1;33m,\u001b[0m\u001b[1;36m5\u001b[0m\u001b[1;33m)\u001b[0m\u001b[1;33m\u001b[0m\u001b[0m\n\u001b[0;32m      3\u001b[0m \u001b[1;33m\u001b[0m\u001b[0m\n\u001b[1;32m----> 4\u001b[1;33m \u001b[0mfoo\u001b[0m\u001b[1;33m(\u001b[0m\u001b[0ml\u001b[0m\u001b[1;33m)\u001b[0m\u001b[1;33m\u001b[0m\u001b[0m\n\u001b[0m",
      "\u001b[1;32m<ipython-input-29-7820fc5b3977>\u001b[0m in \u001b[0;36mfoo\u001b[1;34m(*args)\u001b[0m\n\u001b[0;32m      2\u001b[0m     \u001b[1;34m\"\"\" A function summing its arguments \"\"\"\u001b[0m\u001b[1;33m\u001b[0m\u001b[0m\n\u001b[0;32m      3\u001b[0m \u001b[1;33m\u001b[0m\u001b[0m\n\u001b[1;32m----> 4\u001b[1;33m     \u001b[1;32mreturn\u001b[0m \u001b[0msum\u001b[0m\u001b[1;33m(\u001b[0m\u001b[0margs\u001b[0m\u001b[1;33m)\u001b[0m\u001b[1;33m\u001b[0m\u001b[0m\n\u001b[0m",
      "\u001b[1;31mTypeError\u001b[0m: unsupported operand type(s) for +: 'int' and 'tuple'"
     ]
    }
   ],
   "source": [
    "# A tuple of arguments\n",
    "l=(1,2,3,4,5)\n",
    "\n",
    "foo(l)"
   ]
  },
  {
   "cell_type": "markdown",
   "metadata": {},
   "source": [
    "## Gotcha !!!\n",
    "\n",
    "#### This is because,\n",
    "\n",
    "   1. Positional arguments using the *args format accepts an __unpacked__ tuple, not a tuple itself.\n",
    "   1. Hence you need to pass a tuple __t__ as __*t__ to the function or directly pass in the elements in order."
   ]
  },
  {
   "cell_type": "markdown",
   "metadata": {},
   "source": [
    "### 3.2. Show me the Fix !"
   ]
  },
  {
   "cell_type": "code",
   "execution_count": 31,
   "metadata": {},
   "outputs": [
    {
     "data": {
      "text/plain": [
       "15"
      ]
     },
     "execution_count": 31,
     "metadata": {},
     "output_type": "execute_result"
    }
   ],
   "source": [
    "# A tuple of arguments\n",
    "t=(1,2,3,4,5)\n",
    "\n",
    "# Call using syntax *t where 't' is the tuple\n",
    "foo(*t)"
   ]
  },
  {
   "cell_type": "markdown",
   "metadata": {},
   "source": [
    "## 4. Functions with positional and keyword arguments"
   ]
  },
  {
   "cell_type": "markdown",
   "metadata": {},
   "source": [
    "Apart from __*args__ for indicating arbitrary positional arguments, Python also has the __**kwargs__ syntax for passing unnamed keyword arguments to a function. You can also do this by using the __keyword=value__ syntax for each keyword specifically. If you are not careful, this can lead to some interesting situations."
   ]
  },
  {
   "cell_type": "markdown",
   "metadata": {},
   "source": [
    "### 4.1. Naming of positional arguments"
   ]
  },
  {
   "cell_type": "markdown",
   "metadata": {},
   "source": [
    "#### 4.1.1 Show me the Code !"
   ]
  },
  {
   "cell_type": "code",
   "execution_count": 39,
   "metadata": {},
   "outputs": [],
   "source": [
    "def foo(x,y, **kwargs):\n",
    "    \"\"\" A function accepting positional\n",
    "    and keyword arguments \"\"\"\n",
    "    \n",
    "    print 'Positional =>',x,y\n",
    "    print 'Keyword =>',kwargs"
   ]
  },
  {
   "cell_type": "code",
   "execution_count": 40,
   "metadata": {},
   "outputs": [
    {
     "ename": "TypeError",
     "evalue": "foo() got multiple values for keyword argument 'x'",
     "output_type": "error",
     "traceback": [
      "\u001b[1;31m---------------------------------------------------------------------------\u001b[0m\n\u001b[1;31mTypeError\u001b[0m                                 Traceback (most recent call last)",
      "\u001b[1;32m<ipython-input-40-bc29d711b0e9>\u001b[0m in \u001b[0;36m<module>\u001b[1;34m()\u001b[0m\n\u001b[1;32m----> 1\u001b[1;33m \u001b[0mfoo\u001b[0m\u001b[1;33m(\u001b[0m\u001b[1;36m10\u001b[0m\u001b[1;33m,\u001b[0m \u001b[1;36m20\u001b[0m\u001b[1;33m,\u001b[0m \u001b[0mx\u001b[0m\u001b[1;33m=\u001b[0m\u001b[1;36m10\u001b[0m\u001b[1;33m,\u001b[0m \u001b[0my\u001b[0m\u001b[1;33m=\u001b[0m\u001b[1;36m20\u001b[0m\u001b[1;33m)\u001b[0m\u001b[1;33m\u001b[0m\u001b[0m\n\u001b[0m",
      "\u001b[1;31mTypeError\u001b[0m: foo() got multiple values for keyword argument 'x'"
     ]
    }
   ],
   "source": [
    "foo(10, 20, x=10, y=20)"
   ]
  },
  {
   "cell_type": "markdown",
   "metadata": {},
   "source": [
    "## Gotcha !!!\n",
    "\n",
    "#### This is because,\n",
    "\n",
    "   1. Your positional arguments are named __x__ and __y__ and unknowingly, you passed the same names as keyword arguments to the function, so Python is confused.\n",
    "   1. You might expect Python understands the first __x__ is for positional and second for keyword, but it doesn't work like that. "
   ]
  },
  {
   "cell_type": "markdown",
   "metadata": {},
   "source": [
    "#### 4.1.2 Show me the Fix !"
   ]
  },
  {
   "cell_type": "code",
   "execution_count": 41,
   "metadata": {},
   "outputs": [
    {
     "name": "stdout",
     "output_type": "stream",
     "text": [
      "Positional => 10 20\n",
      "Keyword => {'a': 10, 'b': 20}\n"
     ]
    }
   ],
   "source": [
    "# Simple - don't mix names of positional and keyword arguments, use different names for both.\n",
    "foo(10, 20, a=10, b=20)"
   ]
  },
  {
   "cell_type": "markdown",
   "metadata": {},
   "source": [
    "### 4.2. Syntax of mixing positional and keyword arguments."
   ]
  },
  {
   "cell_type": "markdown",
   "metadata": {},
   "source": [
    "#### 4.2.1 Show me the Code !"
   ]
  },
  {
   "cell_type": "code",
   "execution_count": 44,
   "metadata": {},
   "outputs": [
    {
     "ename": "SyntaxError",
     "evalue": "invalid syntax (<ipython-input-44-cff7f3bafef8>, line 1)",
     "output_type": "error",
     "traceback": [
      "\u001b[1;36m  File \u001b[1;32m\"<ipython-input-44-cff7f3bafef8>\"\u001b[1;36m, line \u001b[1;32m1\u001b[0m\n\u001b[1;33m    def foo(*args, x=10, y=20):\u001b[0m\n\u001b[1;37m                   ^\u001b[0m\n\u001b[1;31mSyntaxError\u001b[0m\u001b[1;31m:\u001b[0m invalid syntax\n"
     ]
    }
   ],
   "source": [
    "def foo(*args, x=10, y=20):\n",
    "    \"\"\" A function accepting positional\n",
    "    and keyword arguments \"\"\"\n",
    "    \n",
    "    print 'Positional =>',args\n",
    "    print 'Keyword =>',x,y "
   ]
  },
  {
   "cell_type": "markdown",
   "metadata": {},
   "source": [
    "## Gotcha !!!\n",
    "\n",
    "#### This is because,\n",
    "\n",
    "   1. When using named keyword arguments like this, they should come __BEFORE__ positional arguments."
   ]
  },
  {
   "cell_type": "markdown",
   "metadata": {},
   "source": [
    "### 4.2.2 Show me the Fix !"
   ]
  },
  {
   "cell_type": "code",
   "execution_count": 49,
   "metadata": {},
   "outputs": [],
   "source": [
    "def foo(x=10, y=20, *args):\n",
    "    \"\"\" A function accepting positional\n",
    "    and keyword arguments \"\"\"\n",
    "    \n",
    "    print 'Positional =>',args\n",
    "    print 'Keyword =>',x,y "
   ]
  },
  {
   "cell_type": "code",
   "execution_count": 52,
   "metadata": {},
   "outputs": [
    {
     "name": "stdout",
     "output_type": "stream",
     "text": [
      "Positional => (3, 4, 5)\n",
      "Keyword => 1 2\n"
     ]
    }
   ],
   "source": [
    "foo(1, 2, 3, 4, 5)"
   ]
  },
  {
   "cell_type": "markdown",
   "metadata": {},
   "source": [
    "## Another Gotcha in the fix !!!\n",
    "\n",
    "#### This is because,\n",
    "\n",
    "   1. Not sure if you noticed, but the first 2 positional arguments were eaten. In fact they went on to supply the values for the keyword arguments.\n",
    "   1. This is because, though x and y are keyword arguments, since they are defined BEFORE the positional arguments, when called in order, they take priority, so values 1 & 2 gets supplied to x and y in order."
   ]
  },
  {
   "cell_type": "markdown",
   "metadata": {},
   "source": [
    "### 4.2.3 Show me the Fix for the Fix !"
   ]
  },
  {
   "cell_type": "markdown",
   "metadata": {},
   "source": [
    "When mixing positional and keyword arguments, it is always prudent to go for the syntax of,\n",
    "\n",
    "   1. Both positional and keyword arguments by name.\n",
    "   2. Both positional and keyword arguments using \n",
    "\n",
    "It is better not to mix these semantics together in your functions."
   ]
  },
  {
   "cell_type": "code",
   "execution_count": 55,
   "metadata": {},
   "outputs": [],
   "source": [
    "#### Example - Both positional and keyword arguments by name\n",
    "def foo(a, b, x=10,y=20):\n",
    "    \"\"\" A function accepting positional and keyword\n",
    "    arguments by name \"\"\"\n",
    "    \n",
    "    print \"a + b =>\", a+b\n",
    "    print \"x + y =>\", x+y"
   ]
  },
  {
   "cell_type": "code",
   "execution_count": 56,
   "metadata": {},
   "outputs": [
    {
     "name": "stdout",
     "output_type": "stream",
     "text": [
      "a + b => 3\n",
      "x + y => 30\n"
     ]
    }
   ],
   "source": [
    "foo(1, 2)"
   ]
  },
  {
   "cell_type": "code",
   "execution_count": 57,
   "metadata": {},
   "outputs": [
    {
     "name": "stdout",
     "output_type": "stream",
     "text": [
      "a + b => 3\n",
      "x + y => 110\n"
     ]
    }
   ],
   "source": [
    "foo(1, 2, x=50, y=60)"
   ]
  },
  {
   "cell_type": "code",
   "execution_count": 58,
   "metadata": {},
   "outputs": [
    {
     "name": "stdout",
     "output_type": "stream",
     "text": [
      "a + b => 3\n",
      "x + y => 190\n"
     ]
    }
   ],
   "source": [
    "foo(1, 2, 90, 100)"
   ]
  },
  {
   "cell_type": "code",
   "execution_count": 60,
   "metadata": {},
   "outputs": [
    {
     "name": "stdout",
     "output_type": "stream",
     "text": [
      "a + b => 3\n",
      "x + y => 190\n"
     ]
    }
   ],
   "source": [
    "foo(1, 2, y=100, x=90)"
   ]
  },
  {
   "cell_type": "code",
   "execution_count": 65,
   "metadata": {},
   "outputs": [],
   "source": [
    "#### Example 2 - Both positional and keyword arguments with no name\n",
    "def foo(*args, **kwargs):\n",
    "    \"\"\" A function accepting arbitrary positional and keyword\n",
    "    arguments \"\"\"\n",
    "    \n",
    "    a, b = args[0], args[1]\n",
    "    # Supply default values of kword arguments here.\n",
    "    x, y = kwargs.get('x', 10), kwargs.get('y', 20)\n",
    "    print \"a + b =>\", a+b\n",
    "    print \"x + y =>\", x+y"
   ]
  },
  {
   "cell_type": "code",
   "execution_count": 66,
   "metadata": {},
   "outputs": [
    {
     "name": "stdout",
     "output_type": "stream",
     "text": [
      "a + b => 3\n",
      "x + y => 30\n"
     ]
    }
   ],
   "source": [
    "foo(1, 2)"
   ]
  },
  {
   "cell_type": "code",
   "execution_count": 67,
   "metadata": {},
   "outputs": [
    {
     "name": "stdout",
     "output_type": "stream",
     "text": [
      "a + b => 3\n",
      "x + y => 110\n"
     ]
    }
   ],
   "source": [
    "foo(1, 2, x=50, y=60)"
   ]
  },
  {
   "cell_type": "code",
   "execution_count": 68,
   "metadata": {},
   "outputs": [
    {
     "name": "stdout",
     "output_type": "stream",
     "text": [
      "a + b => 3\n",
      "x + y => 30\n"
     ]
    }
   ],
   "source": [
    "foo(1, 2, 90, 100)"
   ]
  },
  {
   "cell_type": "code",
   "execution_count": 69,
   "metadata": {},
   "outputs": [
    {
     "name": "stdout",
     "output_type": "stream",
     "text": [
      "a + b => 3\n",
      "x + y => 190\n"
     ]
    }
   ],
   "source": [
    "foo(1, 2, y=100, x=90)"
   ]
  },
  {
   "cell_type": "markdown",
   "metadata": {},
   "source": [
    "###### Copyright &copy; Anand B Pillai, Anvetsu Technologies Pvt. Ltd (2015)"
   ]
  }
 ],
 "metadata": {
  "kernelspec": {
   "display_name": "Python 2",
   "language": "python",
   "name": "python2"
  },
  "language_info": {
   "codemirror_mode": {
    "name": "ipython",
    "version": 2
   },
   "file_extension": ".py",
   "mimetype": "text/x-python",
   "name": "python",
   "nbconvert_exporter": "python",
   "pygments_lexer": "ipython2",
   "version": "2.7.15rc1"
  }
 },
 "nbformat": 4,
 "nbformat_minor": 1
}
