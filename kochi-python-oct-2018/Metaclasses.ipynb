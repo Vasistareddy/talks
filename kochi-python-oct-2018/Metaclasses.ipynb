{
 "cells": [
  {
   "cell_type": "markdown",
   "metadata": {},
   "source": [
    "## `type` hierarchy"
   ]
  },
  {
   "cell_type": "code",
   "execution_count": 1,
   "metadata": {},
   "outputs": [],
   "source": [
    "class Foo:\n",
    "    pass"
   ]
  },
  {
   "cell_type": "code",
   "execution_count": 2,
   "metadata": {},
   "outputs": [],
   "source": [
    "x = Foo()"
   ]
  },
  {
   "cell_type": "code",
   "execution_count": 3,
   "metadata": {},
   "outputs": [
    {
     "data": {
      "text/plain": [
       "__main__.Foo"
      ]
     },
     "execution_count": 3,
     "metadata": {},
     "output_type": "execute_result"
    }
   ],
   "source": [
    "type(x)"
   ]
  },
  {
   "cell_type": "code",
   "execution_count": 8,
   "metadata": {},
   "outputs": [
    {
     "data": {
      "text/plain": [
       "type"
      ]
     },
     "execution_count": 8,
     "metadata": {},
     "output_type": "execute_result"
    }
   ],
   "source": [
    "type(Foo)"
   ]
  },
  {
   "cell_type": "code",
   "execution_count": 5,
   "metadata": {},
   "outputs": [
    {
     "data": {
      "text/plain": [
       "type"
      ]
     },
     "execution_count": 5,
     "metadata": {},
     "output_type": "execute_result"
    }
   ],
   "source": [
    "type(type)"
   ]
  },
  {
   "cell_type": "markdown",
   "metadata": {},
   "source": [
    "<img src=\"class-chain.png\" />"
   ]
  },
  {
   "cell_type": "markdown",
   "metadata": {},
   "source": [
    "## Metaclasses are class `factories`"
   ]
  },
  {
   "cell_type": "code",
   "execution_count": 10,
   "metadata": {},
   "outputs": [],
   "source": [
    "# Uncomment this\n",
    "# help(type)"
   ]
  },
  {
   "cell_type": "code",
   "execution_count": 11,
   "metadata": {},
   "outputs": [
    {
     "data": {
      "text/plain": [
       "__main__.Foo"
      ]
     },
     "execution_count": 11,
     "metadata": {},
     "output_type": "execute_result"
    }
   ],
   "source": [
    "Foo = type('Foo', (), {})\n",
    "Foo"
   ]
  },
  {
   "cell_type": "code",
   "execution_count": 13,
   "metadata": {},
   "outputs": [],
   "source": [
    "x = Foo()"
   ]
  },
  {
   "cell_type": "code",
   "execution_count": 12,
   "metadata": {},
   "outputs": [
    {
     "data": {
      "text/plain": [
       "__main__.Foo"
      ]
     },
     "execution_count": 12,
     "metadata": {},
     "output_type": "execute_result"
    }
   ],
   "source": [
    "type(x)"
   ]
  },
  {
   "cell_type": "code",
   "execution_count": 14,
   "metadata": {},
   "outputs": [
    {
     "data": {
      "text/plain": [
       "type"
      ]
     },
     "execution_count": 14,
     "metadata": {},
     "output_type": "execute_result"
    }
   ],
   "source": [
    "type(Foo)"
   ]
  },
  {
   "cell_type": "code",
   "execution_count": 16,
   "metadata": {},
   "outputs": [
    {
     "data": {
      "text/plain": [
       "True"
      ]
     },
     "execution_count": 16,
     "metadata": {},
     "output_type": "execute_result"
    }
   ],
   "source": [
    "isinstance(Foo, type)"
   ]
  },
  {
   "cell_type": "markdown",
   "metadata": {},
   "source": [
    "## Adding attributes"
   ]
  },
  {
   "cell_type": "code",
   "execution_count": 21,
   "metadata": {},
   "outputs": [],
   "source": [
    "Person = type('Person', (), {'name': '', 'age': 0, 'gender': 'NA', \n",
    "                             '__str__': lambda x: '{}, age:{}, sex: {}'.format(x.name, x.age, x.gender)})"
   ]
  },
  {
   "cell_type": "code",
   "execution_count": 22,
   "metadata": {},
   "outputs": [
    {
     "data": {
      "text/plain": [
       "__main__.Person"
      ]
     },
     "execution_count": 22,
     "metadata": {},
     "output_type": "execute_result"
    }
   ],
   "source": [
    "Person"
   ]
  },
  {
   "cell_type": "code",
   "execution_count": 26,
   "metadata": {},
   "outputs": [
    {
     "name": "stdout",
     "output_type": "stream",
     "text": [
      "John, age:25, sex: M\n"
     ]
    }
   ],
   "source": [
    "# Building an object and adding attributes\n",
    "john = Person()\n",
    "\n",
    "john.name='John'\n",
    "john.age = 25\n",
    "john.gender = 'M'\n",
    "print(john)"
   ]
  },
  {
   "cell_type": "code",
   "execution_count": 28,
   "metadata": {},
   "outputs": [
    {
     "ename": "TypeError",
     "evalue": "object() takes no parameters",
     "output_type": "error",
     "traceback": [
      "\u001b[0;31m---------------------------------------------------------------------------\u001b[0m",
      "\u001b[0;31mTypeError\u001b[0m                                 Traceback (most recent call last)",
      "\u001b[0;32m<ipython-input-28-3811c24edd8e>\u001b[0m in \u001b[0;36m<module>\u001b[0;34m\u001b[0m\n\u001b[1;32m      1\u001b[0m \u001b[0;31m# Can't we initialize directly ?\u001b[0m\u001b[0;34m\u001b[0m\u001b[0;34m\u001b[0m\u001b[0m\n\u001b[0;32m----> 2\u001b[0;31m \u001b[0mjohn\u001b[0m \u001b[0;34m=\u001b[0m \u001b[0mPerson\u001b[0m\u001b[0;34m(\u001b[0m\u001b[0mname\u001b[0m\u001b[0;34m=\u001b[0m\u001b[0;34m'John'\u001b[0m\u001b[0;34m,\u001b[0m \u001b[0mage\u001b[0m\u001b[0;34m=\u001b[0m\u001b[0;36m25\u001b[0m\u001b[0;34m,\u001b[0m \u001b[0msex\u001b[0m\u001b[0;34m=\u001b[0m\u001b[0;34m'M'\u001b[0m\u001b[0;34m)\u001b[0m\u001b[0;34m\u001b[0m\u001b[0m\n\u001b[0m",
      "\u001b[0;31mTypeError\u001b[0m: object() takes no parameters"
     ]
    }
   ],
   "source": [
    "# Can't we initialize directly ?\n",
    "john = Person(name='John', age=25, sex='M')"
   ]
  },
  {
   "cell_type": "markdown",
   "metadata": {},
   "source": [
    "## Metaclass to the rescue"
   ]
  },
  {
   "cell_type": "code",
   "execution_count": 77,
   "metadata": {},
   "outputs": [],
   "source": [
    "class PersonType(type):\n",
    "    \"\"\" A type for Person classes \"\"\"\n",
    "    \n",
    "    \n",
    "    def __new__(cls, name, bases, dct):\n",
    "        x = super().__new__(cls, name, bases, dct)\n",
    "        # Dynamic assignment of methods\n",
    "        x.__init__ = cls.__myinit__\n",
    "        x.__str__ = cls.__mystr__\n",
    "        x.hello = cls.hello\n",
    "        return x\n",
    "\n",
    "    def __myinit__(self, name=None, age=0, gender='NA'):\n",
    "        self.name = name\n",
    "        self.age = age\n",
    "        self.gender = gender\n",
    "        \n",
    "    def __mystr__(self):\n",
    "        return \"{}, age: {}, sex: {}\".format(self.name, self.age, self.gender)\n",
    "    \n",
    "    def hello(self):\n",
    "        print(self)\n",
    "        print(\"Hi - I am \", self.name)"
   ]
  },
  {
   "cell_type": "code",
   "execution_count": 78,
   "metadata": {},
   "outputs": [],
   "source": [
    "class Person(metaclass=PersonType):\n",
    "    pass"
   ]
  },
  {
   "cell_type": "code",
   "execution_count": 79,
   "metadata": {},
   "outputs": [
    {
     "name": "stdout",
     "output_type": "stream",
     "text": [
      "John, age: 25, sex: M\n",
      "John, age: 25, sex: M\n",
      "Hi - I am  John\n"
     ]
    }
   ],
   "source": [
    "john = Person('John', 25, 'M')\n",
    "print(john)\n",
    "john.hello()"
   ]
  },
  {
   "cell_type": "markdown",
   "metadata": {},
   "source": [
    "## A better way - Use `__prepare__` special method on the meta-class"
   ]
  },
  {
   "cell_type": "code",
   "execution_count": 1,
   "metadata": {},
   "outputs": [],
   "source": [
    "class PersonPreparedType(type):\n",
    "    \"\"\" A type for Person classes \"\"\"\n",
    "    \n",
    "    @classmethod\n",
    "    def __prepare__(mcs, cls, bases, **kwargs):\n",
    "        print('Metaclass=>',mcs, cls)\n",
    "        return {'__init__': mcs.__myinit__, '__str__': mcs.__mystr__, 'hello': mcs.hello}\n",
    "\n",
    "    def __myinit__(self, name=None, age=0, gender='NA'):\n",
    "        self.name = name\n",
    "        self.age = age\n",
    "        self.gender = gender\n",
    "        \n",
    "    def __mystr__(self):\n",
    "        return \"{}, age: {}, sex: {}\".format(self.name, self.age, self.gender)\n",
    "    \n",
    "    def hello(self):\n",
    "        print('Calling on',self)\n",
    "        print(\"Hi - I am \", self.name)"
   ]
  },
  {
   "cell_type": "code",
   "execution_count": 2,
   "metadata": {},
   "outputs": [
    {
     "name": "stdout",
     "output_type": "stream",
     "text": [
      "Metaclass=> <class '__main__.PersonPreparedType'> Person\n"
     ]
    }
   ],
   "source": [
    "class Person(metaclass=PersonPreparedType):\n",
    "    pass"
   ]
  },
  {
   "cell_type": "code",
   "execution_count": 3,
   "metadata": {},
   "outputs": [
    {
     "name": "stdout",
     "output_type": "stream",
     "text": [
      "John, age: 25, sex: M\n",
      "Calling on John, age: 25, sex: M\n",
      "Hi - I am  John\n"
     ]
    }
   ],
   "source": [
    "john = Person('John', 25, 'M')\n",
    "print(john)\n",
    "john.hello()"
   ]
  },
  {
   "cell_type": "markdown",
   "metadata": {},
   "source": [
    "## Metaclass Methods"
   ]
  },
  {
   "cell_type": "markdown",
   "metadata": {},
   "source": [
    "Metaclasses rely on several magic methods so it's quite useful to know a bit more about them."
   ]
  },
  {
   "cell_type": "code",
   "execution_count": 32,
   "metadata": {},
   "outputs": [],
   "source": [
    "class Meta(type):\n",
    "    \n",
    "    def __init__(cls, *args, **kwargs):\n",
    "        print('__init__:',cls)\n",
    "        type.__init__(cls, *args)\n",
    "        \n",
    "    @classmethod\n",
    "    def __prepare__(mcs, cls, bases, **kwargs):\n",
    "        print('__prepare__:',mcs,cls)\n",
    "        return {'__new__': mcs.my_new, 'hello': mcs.hello}\n",
    "    \n",
    "    def __call__(cls, *args, **kwargs):\n",
    "        print('__call__:',cls, args)\n",
    "        return type.__call__(cls, *args, **kwargs)\n",
    "    \n",
    "    def __new__(mcs, cls, bases=(), dct={}):\n",
    "        print('mcs __new__:',mcs, cls, bases)\n",
    "        print('mcs __new__ dict:', dct)\n",
    "        return type.__new__(mcs, cls, bases, dct)\n",
    "    \n",
    "    @classmethod\n",
    "    def my_new(mcs,cls,bases=(),dct={}):\n",
    "        print('__new__:',mcs,cls)\n",
    "        return object.__new__(cls)\n",
    "    \n",
    "    def hello(self):\n",
    "        print('Hello World')"
   ]
  },
  {
   "cell_type": "code",
   "execution_count": 33,
   "metadata": {},
   "outputs": [
    {
     "name": "stdout",
     "output_type": "stream",
     "text": [
      "__prepare__: <class '__main__.Meta'> C\n",
      "mcs __new__: <class '__main__.Meta'> C ()\n",
      "mcs __new__ dict: {'__new__': <bound method Meta.my_new of <class '__main__.Meta'>>, 'hello': <function Meta.hello at 0x7fd3cb78bbf8>, '__module__': '__main__', '__qualname__': 'C', '__init__': <function C.__init__ at 0x7fd3caf738c8>}\n",
      "__init__: <class '__main__.C'>\n"
     ]
    }
   ],
   "source": [
    "class C(metaclass=Meta):\n",
    "    \n",
    "    def __init__(self, x=100):\n",
    "        print('C __init__',self)"
   ]
  },
  {
   "cell_type": "code",
   "execution_count": 35,
   "metadata": {},
   "outputs": [
    {
     "name": "stdout",
     "output_type": "stream",
     "text": [
      "__call__: <class '__main__.C'> (200,)\n",
      "__new__: <class '__main__.Meta'> <class '__main__.C'>\n",
      "C __init__ <__main__.C object at 0x7fd3caf74d30>\n"
     ]
    }
   ],
   "source": [
    "c=C(200)"
   ]
  },
  {
   "cell_type": "markdown",
   "metadata": {},
   "source": [
    "### Method Calling Order"
   ]
  },
  {
   "cell_type": "markdown",
   "metadata": {},
   "source": [
    "### Metaclass (Metaclass & Class creation)\n",
    "\n",
    "1. First the metaclass's `__prepare__` method is called. This method is called before the class body is executed and it must return a dictionary-like object that's used as the local namespace for all the code from the class body.\n",
    "2. Then the metaclass's `__new__` method is called. The dictionary returned by `__prepare__` above is passed to this method (as the last) argument.\n",
    "3. At this point the metaclass's object is created. Then `__init__` (metclass's `__init__`) is called on it. Note that this takes the class as the argument. The class is `created` at this point.\n",
    "\n",
    "### Class (Instance creation)\n",
    "\n",
    "1. First class's `__call__` method is called. Any arguments to class creation is also passed her.\n",
    "2. Next class's `__new__` method is called. This can be over-ridden to customize `instance creation`\n",
    "3. Finally the instance's `__init__` is called (via the class) and the instance object returned."
   ]
  },
  {
   "cell_type": "markdown",
   "metadata": {},
   "source": [
    "## Class Creation"
   ]
  },
  {
   "cell_type": "markdown",
   "metadata": {},
   "source": [
    "<img src=\"class-creation.png\" />"
   ]
  },
  {
   "cell_type": "markdown",
   "metadata": {},
   "source": [
    "## Instance Creation"
   ]
  },
  {
   "cell_type": "markdown",
   "metadata": {},
   "source": [
    "<img src=\"instance-creation.png\" />"
   ]
  },
  {
   "cell_type": "markdown",
   "metadata": {},
   "source": [
    "1. Sub-classes inherit the `metaclass`.\n",
    "2. Meta-class is available as the `__class__` attribute"
   ]
  },
  {
   "cell_type": "code",
   "execution_count": 37,
   "metadata": {},
   "outputs": [
    {
     "name": "stdout",
     "output_type": "stream",
     "text": [
      "__prepare__: <class '__main__.Meta'> D\n",
      "mcs __new__: <class '__main__.Meta'> D (<class '__main__.C'>,)\n",
      "mcs __new__ dict: {'__new__': <bound method Meta.my_new of <class '__main__.Meta'>>, 'hello': <function Meta.hello at 0x7fd3cb78bbf8>, '__module__': '__main__', '__qualname__': 'D'}\n",
      "__init__: <class '__main__.D'>\n"
     ]
    }
   ],
   "source": [
    "class D(C):\n",
    "    pass"
   ]
  },
  {
   "cell_type": "code",
   "execution_count": 38,
   "metadata": {},
   "outputs": [
    {
     "name": "stdout",
     "output_type": "stream",
     "text": [
      "<class '__main__.Meta'>\n",
      "<class '__main__.Meta'>\n"
     ]
    }
   ],
   "source": [
    "print(C.__class__)\n",
    "print(D.__class__)"
   ]
  },
  {
   "cell_type": "markdown",
   "metadata": {},
   "source": [
    "#### Make sure you understand the following `truisms` "
   ]
  },
  {
   "cell_type": "code",
   "execution_count": 39,
   "metadata": {},
   "outputs": [
    {
     "name": "stdout",
     "output_type": "stream",
     "text": [
      "True\n"
     ]
    }
   ],
   "source": [
    "print(isinstance(C, Meta))"
   ]
  },
  {
   "cell_type": "code",
   "execution_count": 40,
   "metadata": {},
   "outputs": [
    {
     "name": "stdout",
     "output_type": "stream",
     "text": [
      "False\n"
     ]
    }
   ],
   "source": [
    "print(issubclass(C, Meta))"
   ]
  },
  {
   "cell_type": "code",
   "execution_count": 41,
   "metadata": {},
   "outputs": [
    {
     "name": "stdout",
     "output_type": "stream",
     "text": [
      "True\n"
     ]
    }
   ],
   "source": [
    "print(issubclass(D,C))"
   ]
  },
  {
   "cell_type": "code",
   "execution_count": 42,
   "metadata": {},
   "outputs": [
    {
     "name": "stdout",
     "output_type": "stream",
     "text": [
      "True\n"
     ]
    }
   ],
   "source": [
    "print(isinstance(D,Meta))"
   ]
  },
  {
   "cell_type": "code",
   "execution_count": 43,
   "metadata": {},
   "outputs": [
    {
     "name": "stdout",
     "output_type": "stream",
     "text": [
      "True\n"
     ]
    }
   ],
   "source": [
    "print(issubclass(C, object))"
   ]
  },
  {
   "cell_type": "markdown",
   "metadata": {},
   "source": [
    "### References"
   ]
  },
  {
   "cell_type": "markdown",
   "metadata": {},
   "source": [
    "1. https://blog.ionelmc.ro/2015/02/09/understanding-python-metaclasses/\n",
    "2. https://realpython.com/python-metaclasses/\n",
    "3. https://www.python.org/dev/peps/pep-3115/"
   ]
  }
 ],
 "metadata": {
  "kernelspec": {
   "display_name": "Python 3",
   "language": "python",
   "name": "python3"
  },
  "language_info": {
   "codemirror_mode": {
    "name": "ipython",
    "version": 3
   },
   "file_extension": ".py",
   "mimetype": "text/x-python",
   "name": "python",
   "nbconvert_exporter": "python",
   "pygments_lexer": "ipython3",
   "version": "3.6.6"
  }
 },
 "nbformat": 4,
 "nbformat_minor": 2
}
