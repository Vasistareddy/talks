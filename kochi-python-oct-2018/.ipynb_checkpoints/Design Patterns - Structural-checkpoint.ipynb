{
 "cells": [
  {
   "cell_type": "markdown",
   "metadata": {},
   "source": [
    "# Proxy"
   ]
  },
  {
   "cell_type": "markdown",
   "metadata": {},
   "source": [
    "A Proxy is an object that stands in place for another object, typically wrapping it up and forwarding calls to it while performing some additional functionality on top."
   ]
  },
  {
   "cell_type": "code",
   "execution_count": 1,
   "metadata": {},
   "outputs": [],
   "source": [
    "class PartProxy:\n",
    "    \"\"\" A proxy class for parts - keeping their running counts and a registry \"\"\"\n",
    "    \n",
    "    # Keep count of total number of parts\n",
    "    parts_count = 0\n",
    "    register = {}\n",
    "    \n",
    "    # A proxy almost always wraps up the object it proxies to\n",
    "    def __init__(self, part):\n",
    "        self.part = part\n",
    "        self.__class__.parts_count += 1\n",
    "        count = self.__class__.parts_count\n",
    "        # Register the part!\n",
    "        self.__class__.register[count] = part\n",
    "        print(self.register)\n",
    "        \n",
    "    def __str__(self):\n",
    "        return str(self.part)\n",
    "    \n",
    "    @classmethod\n",
    "    def get_count(cls):\n",
    "        return cls.parts_count\n",
    "    \n",
    "    def destroy(self):\n",
    "        \"\"\" destroy the part \"\"\"\n",
    "\n",
    "        # Unregister the part\n",
    "        for key,item in self.__class__.register.items():\n",
    "            if item == self.part:\n",
    "                del self.__class__.register[key]\n",
    "                break\n",
    "                \n",
    "        del self.part\n",
    "        self.__class__.parts_count -= 1\n",
    "        \n",
    "    def __getattr__(self, name):\n",
    "        \"\"\" Redirect attributes to proxied part \"\"\"\n",
    "        \n",
    "        try:\n",
    "            return self.__dict__[name]\n",
    "        except KeyError:\n",
    "            return getattr(self.part, name)"
   ]
  },
  {
   "cell_type": "code",
   "execution_count": 2,
   "metadata": {},
   "outputs": [
    {
     "name": "stdout",
     "output_type": "stream",
     "text": [
      "__init__: <class '__main__.Part'>\n"
     ]
    }
   ],
   "source": [
    "\n",
    "class PartsTypeProxyFactory(type):\n",
    "    \"\"\" A type and proxy factory for mechanical part classes and instances respectively \"\"\"\n",
    "    \n",
    "    def __init__(cls, *args, **kwargs):\n",
    "        print('__init__:',cls)\n",
    "        type.__init__(cls, *args)\n",
    "        \n",
    "    def my_new(cls,name,bases=(),dct={}):\n",
    "        print(cls,name)\n",
    "        instance = object.__new__(cls)\n",
    "        # instance = object.__new__(cls)\n",
    "        return instance\n",
    "       \n",
    "    @classmethod\n",
    "    def create(cls, *args, **kwargs):\n",
    "        print('create:',args)\n",
    "        return PartProxy(Part(*args, **kwargs))\n",
    "    \n",
    "    @classmethod\n",
    "    def __prepare__(cls, name, bases, **kwargs):\n",
    "        return {'__new__': cls.my_new}\n",
    "\n",
    "\n",
    "class Part(metaclass=PartsTypeProxyFactory):\n",
    "    \"\"\" A Mechanical Parts class \"\"\"\n",
    "\n",
    "    def __init__(self, name, parent=None):\n",
    "        print('__init__:',name,parent)\n",
    "        self.name = name\n",
    "        self.parent = parent\n",
    "    \n",
    "    def join(self, part):\n",
    "        print('Joining with part', part)\n",
    "        \n",
    "    def __str__(self):\n",
    "        return \"{}, parent: {} \".format(self.name, self.parent)\n"
   ]
  },
  {
   "cell_type": "code",
   "execution_count": 3,
   "metadata": {},
   "outputs": [
    {
     "name": "stdout",
     "output_type": "stream",
     "text": [
      "create: ('Nut',)\n",
      "<class '__main__.Part'> Nut\n",
      "__init__: Nut None\n",
      "{1: <__main__.Part object at 0x7fb5744a3f28>}\n",
      "create: ('Bolt', <__main__.PartProxy object at 0x7fb5744a3fd0>)\n",
      "<class '__main__.Part'> Bolt\n",
      "__init__: Bolt Nut, parent: None \n",
      "{1: <__main__.Part object at 0x7fb5744a3f28>, 2: <__main__.Part object at 0x7fb5744a3a58>}\n",
      "create: ('Screw', <__main__.PartProxy object at 0x7fb5744a3978>)\n",
      "<class '__main__.Part'> Screw\n",
      "__init__: Screw Bolt, parent: Nut, parent: None  \n",
      "{1: <__main__.Part object at 0x7fb5744a3f28>, 2: <__main__.Part object at 0x7fb5744a3a58>, 3: <__main__.Part object at 0x7fb5744a3dd8>}\n"
     ]
    }
   ],
   "source": [
    "nut = PartsTypeProxyFactory.create('Nut')\n",
    "bolt = PartsTypeProxyFactory.create('Bolt', nut)\n",
    "screw = PartsTypeProxyFactory.create('Screw', bolt)\n",
    "        "
   ]
  },
  {
   "cell_type": "code",
   "execution_count": 4,
   "metadata": {},
   "outputs": [
    {
     "data": {
      "text/plain": [
       "3"
      ]
     },
     "execution_count": 4,
     "metadata": {},
     "output_type": "execute_result"
    }
   ],
   "source": [
    "PartProxy.get_count()"
   ]
  },
  {
   "cell_type": "code",
   "execution_count": 5,
   "metadata": {},
   "outputs": [
    {
     "data": {
      "text/plain": [
       "{1: <__main__.Part at 0x7fb5744a3f28>,\n",
       " 2: <__main__.Part at 0x7fb5744a3a58>,\n",
       " 3: <__main__.Part at 0x7fb5744a3dd8>}"
      ]
     },
     "execution_count": 5,
     "metadata": {},
     "output_type": "execute_result"
    }
   ],
   "source": [
    "PartProxy.register"
   ]
  },
  {
   "cell_type": "code",
   "execution_count": 6,
   "metadata": {},
   "outputs": [
    {
     "name": "stdout",
     "output_type": "stream",
     "text": [
      "Nut, parent: None \n",
      "Bolt, parent: Nut, parent: None  \n",
      "Screw, parent: Bolt, parent: Nut, parent: None   \n"
     ]
    }
   ],
   "source": [
    "print(nut)\n",
    "print(bolt)\n",
    "print(screw)"
   ]
  },
  {
   "cell_type": "code",
   "execution_count": 7,
   "metadata": {},
   "outputs": [
    {
     "name": "stdout",
     "output_type": "stream",
     "text": [
      "create: ('Frame',)\n",
      "<class '__main__.Part'> Frame\n",
      "__init__: Frame None\n",
      "{1: <__main__.Part object at 0x7fb5744a3f28>, 2: <__main__.Part object at 0x7fb5744a3a58>, 3: <__main__.Part object at 0x7fb5744a3dd8>, 4: <__main__.Part object at 0x7fb574490e48>}\n",
      "Joining with part Frame, parent: None \n"
     ]
    }
   ],
   "source": [
    "frame = PartsTypeProxyFactory.create('Frame')\n",
    "nut.join(frame)"
   ]
  },
  {
   "cell_type": "code",
   "execution_count": 8,
   "metadata": {},
   "outputs": [],
   "source": [
    "nut.destroy()"
   ]
  },
  {
   "cell_type": "code",
   "execution_count": 9,
   "metadata": {},
   "outputs": [
    {
     "data": {
      "text/plain": [
       "3"
      ]
     },
     "execution_count": 9,
     "metadata": {},
     "output_type": "execute_result"
    }
   ],
   "source": [
    "PartProxy.get_count()"
   ]
  },
  {
   "cell_type": "code",
   "execution_count": 10,
   "metadata": {},
   "outputs": [],
   "source": [
    "bolt.destroy()"
   ]
  },
  {
   "cell_type": "code",
   "execution_count": 11,
   "metadata": {},
   "outputs": [
    {
     "data": {
      "text/plain": [
       "2"
      ]
     },
     "execution_count": 11,
     "metadata": {},
     "output_type": "execute_result"
    }
   ],
   "source": [
    "PartProxy.get_count()"
   ]
  },
  {
   "cell_type": "code",
   "execution_count": 12,
   "metadata": {},
   "outputs": [
    {
     "data": {
      "text/plain": [
       "{3: <__main__.Part at 0x7fb5744a3dd8>, 4: <__main__.Part at 0x7fb574490e48>}"
      ]
     },
     "execution_count": 12,
     "metadata": {},
     "output_type": "execute_result"
    }
   ],
   "source": [
    "# Check the parts register\n",
    "PartProxy.register"
   ]
  },
  {
   "cell_type": "code",
   "execution_count": 13,
   "metadata": {},
   "outputs": [],
   "source": [
    "screw.destroy()"
   ]
  },
  {
   "cell_type": "code",
   "execution_count": 14,
   "metadata": {},
   "outputs": [
    {
     "data": {
      "text/plain": [
       "1"
      ]
     },
     "execution_count": 14,
     "metadata": {},
     "output_type": "execute_result"
    }
   ],
   "source": [
    "PartProxy.get_count()"
   ]
  },
  {
   "cell_type": "code",
   "execution_count": 15,
   "metadata": {},
   "outputs": [
    {
     "data": {
      "text/plain": [
       "{4: <__main__.Part at 0x7fb574490e48>}"
      ]
     },
     "execution_count": 15,
     "metadata": {},
     "output_type": "execute_result"
    }
   ],
   "source": [
    "PartProxy.register"
   ]
  },
  {
   "cell_type": "code",
   "execution_count": 16,
   "metadata": {},
   "outputs": [],
   "source": [
    "frame.destroy()"
   ]
  },
  {
   "cell_type": "code",
   "execution_count": 17,
   "metadata": {},
   "outputs": [
    {
     "data": {
      "text/plain": [
       "0"
      ]
     },
     "execution_count": 17,
     "metadata": {},
     "output_type": "execute_result"
    }
   ],
   "source": [
    "PartProxy.get_count()"
   ]
  },
  {
   "cell_type": "code",
   "execution_count": 18,
   "metadata": {},
   "outputs": [
    {
     "data": {
      "text/plain": [
       "{}"
      ]
     },
     "execution_count": 18,
     "metadata": {},
     "output_type": "execute_result"
    }
   ],
   "source": [
    "PartProxy.register"
   ]
  },
  {
   "cell_type": "markdown",
   "metadata": {},
   "source": [
    "# Adapter"
   ]
  },
  {
   "cell_type": "markdown",
   "metadata": {},
   "source": [
    "An adapter adapts an existing class (implementation) to a new interface (class). It does this by either using inheritance (class adapter) or by using aggregation (object adapter)"
   ]
  },
  {
   "cell_type": "code",
   "execution_count": 19,
   "metadata": {},
   "outputs": [],
   "source": [
    "from abc import abstractmethod\n",
    "\n",
    "class InvalidPolygonError(Exception):\n",
    "    pass\n",
    "\n",
    "class Polygon:\n",
    "    \"\"\" A generic polygon class \"\"\"\n",
    "    \n",
    "    def __init__(self, *sides):\n",
    "        \"\"\" Initializer - accepts length of sides \"\"\"\n",
    "        self.sides = sides\n",
    "        \n",
    "    def perimeter(self):\n",
    "        \"\"\" Return perimeter \"\"\"\n",
    "        \n",
    "        return sum(self.sides)\n",
    "    \n",
    "    @abstractmethod\n",
    "    def is_valid(self):\n",
    "        \"\"\" Is this a valid polygon \"\"\"\n",
    "        pass\n",
    "    \n",
    "    def is_regular(self):\n",
    "        \"\"\" Is a regular polygon ? \"\"\"\n",
    "        \n",
    "        # Yes: if all sides are equal\n",
    "        side = self.sides[0]\n",
    "        return all([x==side for x in self.sides[1:]])\n",
    "    \n",
    "    @abstractmethod\n",
    "    def area(self):\n",
    "        \"\"\" Calculate and return area \"\"\"\n",
    "        \n",
    "        pass\n"
   ]
  },
  {
   "cell_type": "code",
   "execution_count": 20,
   "metadata": {},
   "outputs": [],
   "source": [
    "class Rectangle(Polygon):\n",
    "    \"\"\" Rectangle class from Polygon using class adapter \"\"\"\n",
    "        \n",
    "    def is_square(self):\n",
    "        \"\"\" Return if I am a square \"\"\"\n",
    "\n",
    "        if self.is_valid():\n",
    "            # Defaults to is_regular\n",
    "            return self.is_regular()\n",
    "\n",
    "    def is_valid(self):\n",
    "        \"\"\" Is the rectangle valid \"\"\"\n",
    "\n",
    "        # Should have 4 sides\n",
    "        if len(self.sides) != 4:\n",
    "            return False\n",
    "\n",
    "        # Opposite sides should be same\n",
    "        for a,b in [(0,2),(1,3)]:\n",
    "            if self.sides[a] != self.sides[b]:\n",
    "                return False\n",
    "\n",
    "        return True\n",
    "\n",
    "    def area(self):\n",
    "        \"\"\" Return area of rectangle \"\"\"\n",
    "\n",
    "        # Length x breadth\n",
    "        if self.is_valid():\n",
    "            return self.sides[0]*self.sides[1]"
   ]
  },
  {
   "cell_type": "code",
   "execution_count": 21,
   "metadata": {},
   "outputs": [
    {
     "name": "stdout",
     "output_type": "stream",
     "text": [
      "True\n",
      "False\n",
      "28\n",
      "40\n"
     ]
    }
   ],
   "source": [
    "rect = Rectangle(10, 4, 10, 4)\n",
    "\n",
    "print(rect.is_valid())\n",
    "print(rect.is_square())\n",
    "print(rect.perimeter())\n",
    "print(rect.area())"
   ]
  },
  {
   "cell_type": "code",
   "execution_count": 22,
   "metadata": {},
   "outputs": [],
   "source": [
    "def rectangle_valid(self):\n",
    "    \"\"\" Is the rectangle valid \"\"\"\n",
    "    \n",
    "    # Should have 4 sides\n",
    "    if len(self.sides) != 4:\n",
    "        return False\n",
    "\n",
    "    # Opposite sides should be same\n",
    "    for a,b in [(0,2),(1,3)]:\n",
    "        if self.sides[a] != self.sides[b]:\n",
    "            return False\n",
    "\n",
    "    return True\n",
    "    \n",
    "def triangle_valid(self):\n",
    "    \"\"\" Is the triangle valid \"\"\"\n",
    "        \n",
    "    # Sum of 2 sides should be > 3rd side\n",
    "    perimeter = self.perimeter()\n",
    "    for side in self.sides:\n",
    "        sum_two = perimeter - side\n",
    "        if sum_two <= side:\n",
    "            return False\n",
    "        \n",
    "    return True\n",
    "                \n",
    "class PolygonType(type):\n",
    "    \"\"\" A generic polygon type \"\"\"\n",
    "    \n",
    "    def my_init(self, *sides):\n",
    "        \"\"\" Initializer - accepts length of sides \"\"\"\n",
    "        self.sides = sides\n",
    "        \n",
    "    def my_perimeter(self):\n",
    "        \"\"\" Return perimeter \"\"\"\n",
    "        \n",
    "        return sum(self.sides)\n",
    "    \n",
    "    def my_is_regular(self):\n",
    "        \"\"\" Is a regular polygon ? \"\"\"\n",
    "        \n",
    "        # Yes: if all sides are equal\n",
    "        side = self.sides[0]\n",
    "        return all([x==side for x in self.sides[1:]])\n",
    "        \n",
    "    @classmethod\n",
    "    def __prepare__(mcs, name, bases, **kwargs):\n",
    "        print('Metaclass=>',mcs, name)\n",
    "            \n",
    "        # Attach is_valid method using class name\n",
    "        class_name = name.lower()\n",
    "        valid_func = eval(class_name + '_valid')\n",
    "        print('Attaching function',valid_func,'as is_valid method')\n",
    "        return {'__init__': mcs.my_init, 'perimeter': mcs.my_perimeter, \n",
    "               'is_regular': mcs.my_is_regular, 'is_valid': valid_func}\n",
    "       "
   ]
  },
  {
   "cell_type": "code",
   "execution_count": 23,
   "metadata": {},
   "outputs": [
    {
     "name": "stdout",
     "output_type": "stream",
     "text": [
      "Metaclass=> <class '__main__.PolygonType'> Rectangle\n",
      "Attaching function <function rectangle_valid at 0x7fb57443e1e0> as is_valid method\n",
      "Metaclass=> <class '__main__.PolygonType'> Triangle\n",
      "Attaching function <function triangle_valid at 0x7fb57443e400> as is_valid method\n"
     ]
    }
   ],
   "source": [
    "import itertools\n",
    "\n",
    "class Rectangle(metaclass=PolygonType):\n",
    "    \"\"\" Rectangle class using metaclasses \"\"\"\n",
    "    \n",
    "    def area(self):\n",
    "        \"\"\" Return area of rectangle \"\"\"\n",
    "        \n",
    "        print('Calculating area')\n",
    "        # Length x breadth\n",
    "        if self.is_valid():\n",
    "            return self.sides[0]*self.sides[1]\n",
    "        \n",
    "class Triangle(metaclass=PolygonType):\n",
    "    \"\"\" Triangle class using metaclasses \"\"\"\n",
    "    \n",
    "    def is_isosceles(self):\n",
    "        \"\"\" Is the triangle isoscles \"\"\"\n",
    "        \n",
    "        if self.is_valid():\n",
    "            # Check if any 2 sides are equal\n",
    "            for a,b in itertools.combinations(self.sides, 2):\n",
    "                if a == b:\n",
    "                    return True\n",
    "        return False\n",
    "    \n",
    "    def area(self):\n",
    "        \"\"\" Calculate area \"\"\"\n",
    "        \n",
    "        # Using Heron's formula\n",
    "        p = self.perimeter()/2.0\n",
    "        total = p\n",
    "        for side in self.sides:\n",
    "            total *= abs(p-side)\n",
    "            \n",
    "        return pow(total, 0.5)"
   ]
  },
  {
   "cell_type": "code",
   "execution_count": 24,
   "metadata": {},
   "outputs": [
    {
     "name": "stdout",
     "output_type": "stream",
     "text": [
      "True\n",
      "Calculating area\n",
      "40\n",
      "False\n"
     ]
    }
   ],
   "source": [
    "rect2 = Rectangle(10,4,10,4)\n",
    "print(rect2.is_valid())\n",
    "print(rect2.area())\n",
    "print(rect2.is_regular())"
   ]
  },
  {
   "cell_type": "code",
   "execution_count": 25,
   "metadata": {},
   "outputs": [
    {
     "name": "stdout",
     "output_type": "stream",
     "text": [
      "False\n"
     ]
    }
   ],
   "source": [
    "tri = Triangle(10, 10, 20)\n",
    "print(tri.is_valid())"
   ]
  },
  {
   "cell_type": "code",
   "execution_count": 26,
   "metadata": {},
   "outputs": [
    {
     "name": "stdout",
     "output_type": "stream",
     "text": [
      "True\n",
      "True\n",
      "34.85685011586675\n"
     ]
    }
   ],
   "source": [
    "tri = Triangle(12,  12, 6)\n",
    "print(tri.is_valid())\n",
    "print(tri.is_isosceles())\n",
    "print(tri.area())"
   ]
  }
 ],
 "metadata": {
  "kernelspec": {
   "display_name": "Python 3",
   "language": "python",
   "name": "python3"
  },
  "language_info": {
   "codemirror_mode": {
    "name": "ipython",
    "version": 3
   },
   "file_extension": ".py",
   "mimetype": "text/x-python",
   "name": "python",
   "nbconvert_exporter": "python",
   "pygments_lexer": "ipython3",
   "version": "3.6.6"
  }
 },
 "nbformat": 4,
 "nbformat_minor": 2
}
