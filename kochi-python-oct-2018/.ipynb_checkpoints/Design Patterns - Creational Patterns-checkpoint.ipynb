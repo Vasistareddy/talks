{
 "cells": [
  {
   "cell_type": "markdown",
   "metadata": {},
   "source": [
    "# Singleton"
   ]
  },
  {
   "cell_type": "markdown",
   "metadata": {},
   "source": [
    " A Singleton is a class with only a single instance."
   ]
  },
  {
   "cell_type": "code",
   "execution_count": 1,
   "metadata": {},
   "outputs": [],
   "source": [
    "class Singleton(object):\n",
    "    \"\"\" Singleton in Python by overriding __new__ at class level \"\"\"\n",
    "    \n",
    "    _instance = None\n",
    "    \n",
    "    def __new__(cls):\n",
    "        if cls._instance == None:\n",
    "            cls._instance = object.__new__(cls)\n",
    "        return cls._instance"
   ]
  },
  {
   "cell_type": "code",
   "execution_count": 2,
   "metadata": {},
   "outputs": [],
   "source": [
    "class A(Singleton):\n",
    "    pass"
   ]
  },
  {
   "cell_type": "code",
   "execution_count": 3,
   "metadata": {},
   "outputs": [
    {
     "name": "stdout",
     "output_type": "stream",
     "text": [
      "<__main__.A object at 0x7f7cf97e5be0> <__main__.A object at 0x7f7cf97e5be0>\n"
     ]
    },
    {
     "data": {
      "text/plain": [
       "True"
      ]
     },
     "execution_count": 3,
     "metadata": {},
     "output_type": "execute_result"
    }
   ],
   "source": [
    "a1 = A()\n",
    "a2 = A()\n",
    "print(a1, a2)\n",
    "a1 == a2"
   ]
  },
  {
   "cell_type": "markdown",
   "metadata": {},
   "source": [
    "### Singleton overriding `__prepare__` "
   ]
  },
  {
   "cell_type": "code",
   "execution_count": 4,
   "metadata": {},
   "outputs": [],
   "source": [
    "class SingletonType(type):\n",
    "    \"\"\" A type for Singleton classes by overriding __prepare__ \"\"\"\n",
    "    \n",
    "    @classmethod\n",
    "    def single_new(mcs,cls,bases=(),dct={}):\n",
    "        print('__new__:',mcs,cls)\n",
    "        if not cls.instance:\n",
    "            cls.instance = object.__new__(cls)\n",
    "                \n",
    "        return cls.instance\n",
    "\n",
    "    @classmethod\n",
    "    def __prepare__(cls, name, bases, **kwargs):\n",
    "        print('__prepare__:',cls)\n",
    "        cls.instance = None\n",
    "        return {'__new__': cls.single_new}"
   ]
  },
  {
   "cell_type": "code",
   "execution_count": 5,
   "metadata": {},
   "outputs": [
    {
     "name": "stdout",
     "output_type": "stream",
     "text": [
      "__prepare__: <class '__main__.SingletonType'>\n"
     ]
    }
   ],
   "source": [
    "class Singular(metaclass=SingletonType):\n",
    "    \"\"\" A Singleton class \"\"\"\n",
    "    pass"
   ]
  },
  {
   "cell_type": "code",
   "execution_count": 6,
   "metadata": {},
   "outputs": [
    {
     "name": "stdout",
     "output_type": "stream",
     "text": [
      "__new__: <class '__main__.SingletonType'> <class '__main__.Singular'>\n",
      "__new__: <class '__main__.SingletonType'> <class '__main__.Singular'>\n",
      "<__main__.Singular object at 0x7f7cf8f84358> <__main__.Singular object at 0x7f7cf8f84358>\n"
     ]
    },
    {
     "data": {
      "text/plain": [
       "True"
      ]
     },
     "execution_count": 6,
     "metadata": {},
     "output_type": "execute_result"
    }
   ],
   "source": [
    "s1 = Singular()\n",
    "s2 = Singular()\n",
    "print (s1, s2)\n",
    "s1 == s2"
   ]
  },
  {
   "cell_type": "markdown",
   "metadata": {},
   "source": [
    "### Singleton overriding `__call__`"
   ]
  },
  {
   "cell_type": "code",
   "execution_count": 7,
   "metadata": {},
   "outputs": [],
   "source": [
    "class SingletonTypeCall(type):\n",
    "    \"\"\" A type for Singleton classes (overrides __call__) \"\"\"    \n",
    "    \n",
    "    @classmethod\n",
    "    def __prepare__(cls, name, bases, **kwargs):\n",
    "        print('__prepare__:',cls)\n",
    "        cls.instance = None\n",
    "        return {}\n",
    "\n",
    "    def __call__(cls, *args, **kwargs):\n",
    "        print('__call__:',cls)\n",
    "        if not cls.instance:\n",
    "            print(cls,\"creating instance\", args, kwargs)\n",
    "            cls.instance = type.__call__(cls, *args, **kwargs)\n",
    "        return cls.instance"
   ]
  },
  {
   "cell_type": "code",
   "execution_count": 8,
   "metadata": {},
   "outputs": [
    {
     "name": "stdout",
     "output_type": "stream",
     "text": [
      "__prepare__: <class '__main__.SingletonTypeCall'>\n"
     ]
    }
   ],
   "source": [
    "class Alone(metaclass=SingletonTypeCall):\n",
    "    pass"
   ]
  },
  {
   "cell_type": "code",
   "execution_count": 9,
   "metadata": {},
   "outputs": [
    {
     "name": "stdout",
     "output_type": "stream",
     "text": [
      "__call__: <class '__main__.Alone'>\n",
      "<class '__main__.Alone'> creating instance () {}\n",
      "__call__: <class '__main__.Alone'>\n",
      "<__main__.Alone object at 0x7f7cf8f84ef0> <__main__.Alone object at 0x7f7cf8f84ef0>\n"
     ]
    },
    {
     "data": {
      "text/plain": [
       "True"
      ]
     },
     "execution_count": 9,
     "metadata": {},
     "output_type": "execute_result"
    }
   ],
   "source": [
    "a1=Alone()\n",
    "a2=Alone()\n",
    "print(a1, a2)\n",
    "a1 == a2"
   ]
  },
  {
   "cell_type": "markdown",
   "metadata": {},
   "source": [
    "# Prototype"
   ]
  },
  {
   "cell_type": "markdown",
   "metadata": {},
   "source": [
    "A prototype is a class which provides a `clone` method for easily creating mulitple copies."
   ]
  },
  {
   "cell_type": "code",
   "execution_count": 10,
   "metadata": {},
   "outputs": [],
   "source": [
    "import copy\n",
    "\n",
    "class Prototype(object):\n",
    "    \"\"\" A prototype base class \"\"\"\n",
    "\n",
    "    def clone(self):\n",
    "        \"\"\" Return a clone of self \"\"\"\n",
    "        return copy.deepcopy(self)"
   ]
  },
  {
   "cell_type": "code",
   "execution_count": 11,
   "metadata": {},
   "outputs": [],
   "source": [
    "class MechanicalPart(Prototype):\n",
    "    \n",
    "    def __init__(self, name, parent, assembly=None):\n",
    "        self.name = name\n",
    "        self.parent = parent\n",
    "        self.assembly = assembly\n",
    "        \n",
    "    def __str__(self):\n",
    "        return 'Mechanical Part id: {} => {}, {}, {}'.format(hex(id(self)), self.name, self.parent, self.assembly)"
   ]
  },
  {
   "cell_type": "code",
   "execution_count": 12,
   "metadata": {},
   "outputs": [
    {
     "name": "stdout",
     "output_type": "stream",
     "text": [
      "Mechanical Part id: 0x7f7cf8f91748 => suspension, frame, leaf spring\n"
     ]
    }
   ],
   "source": [
    "suspension = MechanicalPart('suspension', 'frame', assembly='leaf spring')\n",
    "print(suspension)"
   ]
  },
  {
   "cell_type": "code",
   "execution_count": 13,
   "metadata": {},
   "outputs": [
    {
     "name": "stdout",
     "output_type": "stream",
     "text": [
      "Mechanical Part id: 0x7f7cf8f919e8 => suspension, frame, leaf spring\n",
      "Mechanical Part id: 0x7f7cf8f91a58 => suspension, frame, leaf spring\n"
     ]
    }
   ],
   "source": [
    "print(suspension.clone())\n",
    "print(suspension.clone())"
   ]
  },
  {
   "cell_type": "code",
   "execution_count": 14,
   "metadata": {},
   "outputs": [],
   "source": [
    "import copy\n",
    "\n",
    "class MetaPrototype(type):\n",
    "    \"\"\" A metaclass for Prototypes \"\"\"\n",
    "\n",
    "    @classmethod\n",
    "    def __prepare__(cls, name, bases, **kwargs):\n",
    "        return {'clone': lambda x: copy.deepcopy(x)}\n"
   ]
  },
  {
   "cell_type": "code",
   "execution_count": 15,
   "metadata": {},
   "outputs": [],
   "source": [
    "class Proto(metaclass=MetaPrototype):\n",
    "    pass"
   ]
  },
  {
   "cell_type": "code",
   "execution_count": 16,
   "metadata": {},
   "outputs": [],
   "source": [
    "class Bone(Proto):\n",
    "    \"\"\" A Bone class \"\"\"\n",
    "    \n",
    "    def __init__(self, name, parent, joint=None):\n",
    "        self.name = name\n",
    "        self.parent = parent\n",
    "        self.joint = joint\n",
    "        \n",
    "    def __str__(self):\n",
    "        return 'Bone id: {} => {}, {}, {}'.format(hex(id(self)), self.name, self.parent, self.joint)"
   ]
  },
  {
   "cell_type": "code",
   "execution_count": 17,
   "metadata": {},
   "outputs": [
    {
     "name": "stdout",
     "output_type": "stream",
     "text": [
      "Bone id: 0x7f7cf8f91e48 => thigh bone, thigh, hip joint\n",
      "Bone id: 0x7f7cf8f91fd0 => collar bone, shoulder bone, shoulder joint\n"
     ]
    }
   ],
   "source": [
    "femur = Bone('thigh bone', 'thigh', 'hip joint')\n",
    "print(femur)\n",
    "\n",
    "clavicle = femur.clone()\n",
    "clavicle.name = 'collar bone'\n",
    "clavicle.parent = 'shoulder bone'\n",
    "clavicle.joint = 'shoulder joint'\n",
    "print (clavicle)"
   ]
  },
  {
   "cell_type": "markdown",
   "metadata": {},
   "source": [
    "# Factory"
   ]
  },
  {
   "cell_type": "markdown",
   "metadata": {},
   "source": [
    "Factory pattern allows creation of instances of related classes using a similar interface."
   ]
  },
  {
   "cell_type": "code",
   "execution_count": 18,
   "metadata": {},
   "outputs": [],
   "source": [
    "from abc import ABCMeta, abstractmethod\n",
    "\n",
    "class Employee(metaclass=ABCMeta):\n",
    "    \"\"\" An Employee class \"\"\"\n",
    "\n",
    "    def __init__(self, name, age, gender):\n",
    "        self.name = name\n",
    "        self.age = age\n",
    "        self.gender = gender\n",
    "\n",
    "    @abstractmethod\n",
    "    def get_role(self):\n",
    "        pass\n",
    "    \n",
    "    def __str__(self):\n",
    "        return \"{} - {}, {} years old {}\".format(self.__class__.__name__,\n",
    "                                                 self.name,\n",
    "                                                 self.age,\n",
    "                                                 self.gender)\n"
   ]
  },
  {
   "cell_type": "code",
   "execution_count": 19,
   "metadata": {},
   "outputs": [],
   "source": [
    "\n",
    "class Engineer(Employee):\n",
    "    \"\"\" An Engineer Employee \"\"\"\n",
    "    \n",
    "    def get_role(self):\n",
    "        return \"engineering\"\n",
    "\n",
    "class Accountant(Employee):\n",
    "    \"\"\" An Accountant Employee \"\"\"\n",
    "    \n",
    "    def get_role(self):\n",
    "        return \"accountant\"    \n",
    "\n",
    "class Admin(Employee):\n",
    "    \"\"\" An Admin Employee \"\"\"\n",
    "\n",
    "    def get_role(self):\n",
    "        return \"administration\""
   ]
  },
  {
   "cell_type": "code",
   "execution_count": 20,
   "metadata": {},
   "outputs": [],
   "source": [
    "class EmployeeFactory(object):\n",
    "    \"\"\" An Employee factory class \"\"\"\n",
    "\n",
    "    @classmethod\n",
    "    def create(cls, name, *args):\n",
    "        \"\"\" Factory method for creating an Employee instance \"\"\"\n",
    "\n",
    "        name = name.lower().strip()\n",
    "        \n",
    "        if name == 'engineer':\n",
    "            return Engineer(*args)\n",
    "        elif name == 'software engineer':\n",
    "            return SoftwareEngineer(*args)\n",
    "        elif name == 'admin':\n",
    "            return Admin(*args)"
   ]
  },
  {
   "cell_type": "code",
   "execution_count": 21,
   "metadata": {},
   "outputs": [
    {
     "name": "stdout",
     "output_type": "stream",
     "text": [
      "Engineer - Jake, 42 years old M\n",
      "Jake's Role=> engineering\n",
      "\n",
      "Admin - Joel, 25 years old F\n",
      "Joel's Role=> administration\n"
     ]
    }
   ],
   "source": [
    "jake = EmployeeFactory.create('engineer', 'Jake', 42, 'M')\n",
    "print(jake)\n",
    "print(\"Jake's Role=>\",jake.get_role())\n",
    "print()\n",
    "\n",
    "joel = EmployeeFactory.create('admin', 'Joel', 25, 'F')\n",
    "print(joel)\n",
    "print(\"Joel's Role=>\",joel.get_role())"
   ]
  },
  {
   "cell_type": "code",
   "execution_count": 22,
   "metadata": {},
   "outputs": [],
   "source": [
    "class EmployeeTypeFactory(type):\n",
    "    \"\"\" A type and factory for Employee classes \"\"\"\n",
    "        \n",
    "    registry = {}\n",
    "    \n",
    "    def __init__(cls, *args, **kwargs):\n",
    "        print('__init__:',cls)\n",
    "        type.__init__(cls, *args)\n",
    "        # Create a registry of classes with names as keys\n",
    "        cls.registry[cls.__name__] = cls\n",
    "        print(cls.registry)\n",
    "        \n",
    "    @classmethod\n",
    "    def create(cls, name, *args):\n",
    "        print('create:',cls,name)\n",
    "        # Scheme: drop spaces after capitalizing words\n",
    "        class_name = ''.join([item.capitalize() for item in name.split()])\n",
    "        # get class from registry\n",
    "        klass = cls.registry.get(class_name)\n",
    "        print('create:',class_name, klass)\n",
    "        return klass(*args)\n",
    "    \n",
    "    def test(self):\n",
    "        print('Testing')\n",
    "        "
   ]
  },
  {
   "cell_type": "code",
   "execution_count": 23,
   "metadata": {},
   "outputs": [
    {
     "name": "stdout",
     "output_type": "stream",
     "text": [
      "__init__: <class '__main__.Employee2'>\n",
      "{'Employee2': <class '__main__.Employee2'>}\n"
     ]
    }
   ],
   "source": [
    "class Employee2(metaclass=EmployeeTypeFactory):\n",
    "    \"\"\" An Employee class (version 2)\"\"\"\n",
    "\n",
    "    def __init__(self, name, age, gender):\n",
    "        self.name = name\n",
    "        self.age = age\n",
    "        self.gender = gender\n",
    "\n",
    "\n",
    "    @abstractmethod\n",
    "    def get_role(self):\n",
    "        pass\n",
    "    \n",
    "    def __str__(self):\n",
    "        return \"{} - {}, {} years old {}\".format(self.__class__.__name__,\n",
    "                                                 self.name,\n",
    "                                                 self.age,\n",
    "                                                 self.gender)"
   ]
  },
  {
   "cell_type": "code",
   "execution_count": 24,
   "metadata": {},
   "outputs": [
    {
     "name": "stdout",
     "output_type": "stream",
     "text": [
      "__init__: <class '__main__.Accountant'>\n",
      "{'Employee2': <class '__main__.Employee2'>, 'Accountant': <class '__main__.Accountant'>}\n",
      "__init__: <class '__main__.HumanResources'>\n",
      "{'Employee2': <class '__main__.Employee2'>, 'Accountant': <class '__main__.Accountant'>, 'HumanResources': <class '__main__.HumanResources'>}\n"
     ]
    }
   ],
   "source": [
    "class Accountant(Employee2):\n",
    "    \"\"\" An Accountant Employee \"\"\"\n",
    "    \n",
    "    def get_role(self):\n",
    "        return \"accountant\"    \n",
    "\n",
    "class HumanResources(Employee2):\n",
    "    \"\"\" A HR Employee \"\"\"\n",
    "\n",
    "    def get_role(self):\n",
    "        return \"human resources\""
   ]
  },
  {
   "cell_type": "code",
   "execution_count": 25,
   "metadata": {},
   "outputs": [
    {
     "name": "stdout",
     "output_type": "stream",
     "text": [
      "create: <class '__main__.EmployeeTypeFactory'> accountant\n",
      "create: Accountant <class '__main__.Accountant'>\n",
      "Accountant - Jack, 32 years old M\n",
      "Jack's Role=> accountant\n",
      "\n",
      "create: <class '__main__.EmployeeTypeFactory'> human resources\n",
      "create: HumanResources <class '__main__.HumanResources'>\n",
      "HumanResources - Jill, 28 years old F\n",
      "Jill's Role=> human resources\n"
     ]
    }
   ],
   "source": [
    "jack = EmployeeTypeFactory.create('accountant', 'Jack', 32, 'M')\n",
    "print(jack)\n",
    "print(\"Jack's Role=>\",jack.get_role())\n",
    "print()\n",
    "\n",
    "jill = EmployeeTypeFactory.create('human resources', 'Jill', 28, 'F')\n",
    "print(jill)\n",
    "print(\"Jill's Role=>\",jill.get_role())"
   ]
  },
  {
   "cell_type": "code",
   "execution_count": 26,
   "metadata": {},
   "outputs": [
    {
     "name": "stdout",
     "output_type": "stream",
     "text": [
      "create: <class '__main__.EmployeeTypeFactory'> accountant\n",
      "create: Accountant <class '__main__.Accountant'>\n",
      "Accountant - Jack, 32 years old M\n",
      "Jack's Role=> accountant\n",
      "\n",
      "create: <class '__main__.EmployeeTypeFactory'> human resources\n",
      "create: HumanResources <class '__main__.HumanResources'>\n",
      "HumanResources - Jill, 28 years old F\n",
      "Jill's Role=> human resources\n",
      "Testing\n"
     ]
    }
   ],
   "source": [
    "# Will also work on the Employee class!\n",
    "jack = Employee2.create('accountant', 'Jack', 32, 'M')\n",
    "print(jack)\n",
    "print(\"Jack's Role=>\",jack.get_role())\n",
    "print()\n",
    "\n",
    "jill = Employee2.create('human resources', 'Jill', 28, 'F')\n",
    "print(jill)\n",
    "print(\"Jill's Role=>\",jill.get_role())\n",
    "\n",
    "Employee2.test()"
   ]
  },
  {
   "cell_type": "code",
   "execution_count": 28,
   "metadata": {},
   "outputs": [],
   "source": [
    "class Meta(type):\n",
    "    \n",
    "    def func(self):\n",
    "        print(\"Hello World\")\n",
    "        \n",
    "class C(metaclass=Meta):\n",
    "    pass"
   ]
  },
  {
   "cell_type": "code",
   "execution_count": 31,
   "metadata": {},
   "outputs": [
    {
     "name": "stdout",
     "output_type": "stream",
     "text": [
      "Hello World\n"
     ]
    },
    {
     "ename": "AttributeError",
     "evalue": "'C' object has no attribute 'func'",
     "output_type": "error",
     "traceback": [
      "\u001b[0;31m---------------------------------------------------------------------------\u001b[0m",
      "\u001b[0;31mAttributeError\u001b[0m                            Traceback (most recent call last)",
      "\u001b[0;32m<ipython-input-31-21f8882911b5>\u001b[0m in \u001b[0;36m<module>\u001b[0;34m\u001b[0m\n\u001b[1;32m      3\u001b[0m \u001b[0mc\u001b[0m\u001b[0;34m=\u001b[0m\u001b[0mC\u001b[0m\u001b[0;34m(\u001b[0m\u001b[0;34m)\u001b[0m\u001b[0;34m\u001b[0m\u001b[0m\n\u001b[1;32m      4\u001b[0m \u001b[0;31m# Why this fails ??\u001b[0m\u001b[0;34m\u001b[0m\u001b[0;34m\u001b[0m\u001b[0m\n\u001b[0;32m----> 5\u001b[0;31m \u001b[0mc\u001b[0m\u001b[0;34m.\u001b[0m\u001b[0mfunc\u001b[0m\u001b[0;34m(\u001b[0m\u001b[0;34m)\u001b[0m\u001b[0;34m\u001b[0m\u001b[0m\n\u001b[0m",
      "\u001b[0;31mAttributeError\u001b[0m: 'C' object has no attribute 'func'"
     ]
    }
   ],
   "source": [
    "# This works\n",
    "C.func()\n",
    "c=C()\n",
    "# Why this fails ?? How to fix it ?\n",
    "c.func()"
   ]
  }
 ],
 "metadata": {
  "kernelspec": {
   "display_name": "Python 3",
   "language": "python",
   "name": "python3"
  },
  "language_info": {
   "codemirror_mode": {
    "name": "ipython",
    "version": 3
   },
   "file_extension": ".py",
   "mimetype": "text/x-python",
   "name": "python",
   "nbconvert_exporter": "python",
   "pygments_lexer": "ipython3",
   "version": "3.6.6"
  }
 },
 "nbformat": 4,
 "nbformat_minor": 2
}
