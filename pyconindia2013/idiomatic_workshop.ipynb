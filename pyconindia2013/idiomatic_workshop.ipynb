{
 "cells": [
  {
   "cell_type": "code",
   "execution_count": 4,
   "metadata": {},
   "outputs": [
    {
     "name": "stdout",
     "output_type": "stream",
     "text": [
      "[719, 911, 479, 653, 587, 227, 593, 263, 617, 229, 157, 101, 409, 31, 997, 967, 887, 971, 773, 193]\n"
     ]
    }
   ],
   "source": [
    "# Prime numbers - Solution A\n",
    "\n",
    "import random\n",
    "\n",
    "def is_prime(n):\n",
    "    \"\"\" Is the number 'n' prime ? \"\"\"        \n",
    "    prime = True\n",
    "    for i in range(2,int(pow(n,0.5))+1):\n",
    "        if n % i==0: \n",
    "            prime = False\n",
    "            break\n",
    "    return prime\n",
    "    \n",
    "\n",
    "count, numbers = 0, []\n",
    "\n",
    "while count<20:\n",
    "    num = random.randrange(1,1000)\n",
    "    if num not in numbers and is_prime(num):    \n",
    "        numbers.append(num)\n",
    "        count += 1\n",
    "        \n",
    "print numbers"
   ]
  },
  {
   "cell_type": "code",
   "execution_count": 9,
   "metadata": {},
   "outputs": [
    {
     "name": "stdout",
     "output_type": "stream",
     "text": [
      "set([64, 1, 83, 68, 38, 8, 21, 44, 45, 14, 15, 81, 51, 84, 53, 24, 20, 90, 92, 61, 95])\n"
     ]
    }
   ],
   "source": [
    "# Prime number - Solution B\n",
    "from itertools import takewhile, dropwhile, imap, cycle\n",
    "\n",
    "sieve = lambda n: not any(n % num==0 for num in range(2, int(pow(n,0.5))+1))\n",
    "nums = set()\n",
    "\n",
    "for i in takewhile(lambda x:len(nums)<=20, dropwhile(sieve,imap(random.randrange,cycle([1]),\n",
    "                                                                cycle([100])))):\n",
    "        nums.add(i)\n",
    "print nums"
   ]
  },
  {
   "cell_type": "code",
   "execution_count": 10,
   "metadata": {},
   "outputs": [
    {
     "name": "stdout",
     "output_type": "stream",
     "text": [
      "0 --> apple\n",
      "1 --> mango\n",
      "2 --> grapes\n",
      "3 --> jackfruit\n",
      "4 --> lemon\n",
      "0 --> apple\n",
      "1 --> mango\n",
      "2 --> grapes\n",
      "3 --> jackfruit\n",
      "4 --> lemon\n"
     ]
    }
   ],
   "source": [
    "# Solution A1\n",
    "fruits = ['apple','mango','grapes','jackfruit','lemon']\n",
    "for i in range(len(fruits)):\n",
    "    print i,'-->',fruits[i]\n",
    "\n",
    "# Solution A2\n",
    "i = 0\n",
    "while i<len(fruits):\n",
    "    print i,'-->',fruits[i]\n",
    "    i += 1 "
   ]
  },
  {
   "cell_type": "code",
   "execution_count": 11,
   "metadata": {},
   "outputs": [
    {
     "name": "stdout",
     "output_type": "stream",
     "text": [
      "[(5, 'baidu'), (7, 'qq'), (1, 'google'), (2, 'facebook'), (3, 'youtube'), (6, 'wikipedia'), (4, 'yahoo'), (8, 'linkedin')]\n"
     ]
    },
    {
     "data": {
      "text/plain": [
       "['google',\n",
       " 'facebook',\n",
       " 'youtube',\n",
       " 'yahoo',\n",
       " 'baidu',\n",
       " 'wikipedia',\n",
       " 'qq',\n",
       " 'linkedin']"
      ]
     },
     "execution_count": 11,
     "metadata": {},
     "output_type": "execute_result"
    }
   ],
   "source": [
    "# Sort a website according to its alexa rank\n",
    "topsites = {'google': 1,'wikipedia': 6,\n",
    "            'linkedin': 8,'yahoo': 4,\n",
    "            'baidu': 5,'youtube': 3,\n",
    "            'facebook': 2,'qq': 7}\n",
    "\n",
    "# Solution A\n",
    "# Make a list/tuple with first members as the rank            \n",
    "topsites_items = [(y,x) for x,y in topsites.items()]\n",
    "print topsites_items\n",
    "\n",
    "# Sort it\n",
    "topsites_items.sort()\n",
    "[x[1] for x in topsites_items]"
   ]
  },
  {
   "cell_type": "code",
   "execution_count": 12,
   "metadata": {},
   "outputs": [
    {
     "data": {
      "text/plain": [
       "['google',\n",
       " 'facebook',\n",
       " 'youtube',\n",
       " 'yahoo',\n",
       " 'baidu',\n",
       " 'wikipedia',\n",
       " 'qq',\n",
       " 'linkedin']"
      ]
     },
     "execution_count": 12,
     "metadata": {},
     "output_type": "execute_result"
    }
   ],
   "source": [
    "import operator\n",
    "[x[0] for x in sorted(topsites.items(), key=operator.itemgetter(1))]"
   ]
  },
  {
   "cell_type": "code",
   "execution_count": 14,
   "metadata": {},
   "outputs": [],
   "source": [
    "from random import randrange\n",
    "\n",
    "class MatrixA(object):       \n",
    "    def __init__(self,m,n):\n",
    "        self.m, self.n = m,n\n",
    "        self.rows=[[randrange(1,10) for j in range(n)] for i in range(m)]\n",
    "\n",
    "    def __str__(self):\n",
    "        s='\\n'.join([' '.join([str(i) for i in r]) for r in self.rows])\n",
    "        return s + '\\n'\n",
    "\n",
    "    def transpose(self):\n",
    "        \"\"\" Transpose a matrix \"\"\"\n",
    "        \n",
    "        rows2 = [[0]*self.m for i in range(self.n)]\n",
    "        for x in range(self.m):\n",
    "            for y in range(self.n):\n",
    "                rows2[y][x] = self.rows[x][y]\n",
    "\n",
    "        self.rows = rows2\n",
    "        # Swap m and n\n",
    "        tmp = self.m\n",
    "        self.m = self.n\n",
    "        self.n = tmp\n",
    "        "
   ]
  },
  {
   "cell_type": "code",
   "execution_count": 16,
   "metadata": {},
   "outputs": [
    {
     "name": "stdout",
     "output_type": "stream",
     "text": [
      "3 8 7 4\n",
      "7 5 2 1\n",
      "3 3 4 7\n",
      "\n"
     ]
    }
   ],
   "source": [
    "m = MatrixA(3,4)\n",
    "print m"
   ]
  },
  {
   "cell_type": "code",
   "execution_count": 17,
   "metadata": {},
   "outputs": [
    {
     "name": "stdout",
     "output_type": "stream",
     "text": [
      "3 7 3\n",
      "8 5 3\n",
      "7 2 4\n",
      "4 1 7\n",
      "\n"
     ]
    }
   ],
   "source": [
    "m.transpose()\n",
    "print m"
   ]
  },
  {
   "cell_type": "code",
   "execution_count": 18,
   "metadata": {},
   "outputs": [],
   "source": [
    "# Solution B\n",
    "class MatrixB(MatrixA):\n",
    "\n",
    "    def transpose(self):\n",
    "        self.m, self.n = self.n, self.m\n",
    "        self.rows = zip(*self.rows)\n"
   ]
  },
  {
   "cell_type": "code",
   "execution_count": 19,
   "metadata": {},
   "outputs": [
    {
     "name": "stdout",
     "output_type": "stream",
     "text": [
      "7 5 9 2\n",
      "2 8 1 7\n",
      "5 2 3 2\n",
      "\n"
     ]
    }
   ],
   "source": [
    "m = MatrixB(3, 4)\n",
    "print m"
   ]
  },
  {
   "cell_type": "code",
   "execution_count": 20,
   "metadata": {},
   "outputs": [
    {
     "name": "stdout",
     "output_type": "stream",
     "text": [
      "7 2 5\n",
      "5 8 2\n",
      "9 1 3\n",
      "2 7 2\n",
      "\n"
     ]
    }
   ],
   "source": [
    "m.transpose()\n",
    "print m"
   ]
  },
  {
   "cell_type": "code",
   "execution_count": 21,
   "metadata": {},
   "outputs": [
    {
     "name": "stdout",
     "output_type": "stream",
     "text": [
      "{'sapota': 1, 'apple': 5, 'litchi': 1, 'strawberry': 1, 'mango': 2, 'grapes': 2, 'orange': 2, 'lemon': 1, 'guava': 1, 'banana': 1}\n"
     ]
    }
   ],
   "source": [
    "fruit_bag = ['apple','grapes','apple','mango','mango','apple',\n",
    "                 'banana','orange','guava','sapota','apple','orange',\n",
    "                 'litchi','strawberry','lemon','apple','grapes']\n",
    "\n",
    "# Group counts according to fruit\n",
    "# Solution A\n",
    "fruit_group = {}\n",
    "for fruit in fruit_bag:\n",
    "    if fruit not in fruit_group:\n",
    "        fruit_group[fruit] = 0\n",
    "    fruit_group[fruit] += 1\n",
    "\n",
    "print fruit_group"
   ]
  },
  {
   "cell_type": "code",
   "execution_count": 23,
   "metadata": {},
   "outputs": [
    {
     "name": "stdout",
     "output_type": "stream",
     "text": [
      "{'sapota': 1, 'apple': 5, 'litchi': 1, 'strawberry': 1, 'mango': 2, 'grapes': 2, 'orange': 2, 'lemon': 1, 'guava': 1, 'banana': 1}\n",
      "defaultdict(<type 'int'>, {'sapota': 1, 'apple': 5, 'litchi': 1, 'strawberry': 1, 'mango': 2, 'grapes': 2, 'orange': 2, 'lemon': 1, 'guava': 1, 'banana': 1})\n"
     ]
    }
   ],
   "source": [
    "# Solution B1\n",
    "\n",
    "fruit_group = {}\n",
    "for fruit in fruit_bag:\n",
    "    fruit_group[fruit] = fruit_group.get(fruit, 0) + 1\n",
    "\n",
    "print fruit_group\n",
    "\n",
    "# Solution B2\n",
    "# Grouping using defaultdict\n",
    "import collections\n",
    "\n",
    "fruit_group = collections.defaultdict(int)\n",
    "for fruit in fruit_bag:\n",
    "    fruit_group[fruit] += 1\n",
    "    \n",
    "print fruit_group"
   ]
  },
  {
   "cell_type": "code",
   "execution_count": 2,
   "metadata": {},
   "outputs": [],
   "source": [
    "cutoffs = {'maths': 40, 'elec': '35',\n",
    "               'lab'  : 45, 'cs': 30,\n",
    "               'phy'  : 25, 'chem': 35}\n",
    "\n",
    "marks_dict = { 'Karan': {'maths': 39, 'elec': 78, 'cs': 83,\n",
    "                        'lab': 32, 'phy': 60, 'chem': 91},\n",
    "                'Arjun':  {'maths': 49, 'elec': 45, 'lab': 53,\n",
    "                           'cs': 43, 'phy': 86, 'chem': 54},\n",
    "                'Rancho': {'maths': 86, 'elec': 85, 'cs': 95,\n",
    "                           'lab': 83, 'phy': 91, 'chem': 75},\n",
    "                'Raju':   {'maths': 32, 'elec': 36, 'lab': 50,\n",
    "                           'cs': 26, 'phy': 35, 'chem': 41},\n",
    "                'Farhan': {'maths': 30, 'elec': 56, 'cs': 21,\n",
    "                           'lab': 33, 'phy': 27, 'chem': 56}}"
   ]
  },
  {
   "cell_type": "code",
   "execution_count": 25,
   "metadata": {},
   "outputs": [
    {
     "data": {
      "text/plain": [
       "{'chem': ['Arjun', 'Rancho', 'Raju', 'Farhan', 'Karan'],\n",
       " 'cs': ['Arjun', 'Rancho', 'Karan'],\n",
       " 'elec': [],\n",
       " 'lab': ['Arjun', 'Rancho', 'Raju'],\n",
       " 'maths': ['Arjun', 'Rancho'],\n",
       " 'phy': ['Arjun', 'Rancho', 'Raju', 'Farhan', 'Karan']}"
      ]
     },
     "execution_count": 25,
     "metadata": {},
     "output_type": "execute_result"
    }
   ],
   "source": []
  },
  {
   "cell_type": "code",
   "execution_count": 3,
   "metadata": {},
   "outputs": [
    {
     "name": "stdout",
     "output_type": "stream",
     "text": [
      "SELECTORS => {('elec', 'Rancho'): False, ('chem', 'Farhan'): True, ('lab', 'Raju'): True, ('phy', 'Rancho'): True, ('maths', 'Raju'): False, ('cs', 'Arjun'): True, ('maths', 'Farhan'): False, ('phy', 'Arjun'): True, ('lab', 'Farhan'): False, ('maths', 'Karan'): False, ('maths', 'Rancho'): True, ('phy', 'Farhan'): True, ('phy', 'Raju'): True, ('lab', 'Karan'): False, ('lab', 'Rancho'): True, ('chem', 'Arjun'): True, ('elec', 'Karan'): False, ('elec', 'Raju'): False, ('elec', 'Arjun'): False, ('chem', 'Raju'): True, ('lab', 'Arjun'): True, ('chem', 'Karan'): True, ('cs', 'Raju'): False, ('maths', 'Arjun'): True, ('cs', 'Farhan'): False, ('phy', 'Karan'): True, ('cs', 'Karan'): True, ('cs', 'Rancho'): True, ('elec', 'Farhan'): False, ('chem', 'Rancho'): True}\n"
     ]
    },
    {
     "data": {
      "text/plain": [
       "defaultdict(<type 'list'>, {'cs': ['Arjun', 'Karan', 'Rancho'], 'maths': ['Rancho', 'Arjun'], 'phy': ['Rancho', 'Arjun', 'Farhan', 'Raju', 'Karan'], 'chem': ['Farhan', 'Arjun', 'Raju', 'Karan', 'Rancho'], 'lab': ['Raju', 'Rancho', 'Arjun']})"
      ]
     },
     "execution_count": 3,
     "metadata": {},
     "output_type": "execute_result"
    }
   ],
   "source": [
    "import itertools\n",
    "import collections\n",
    "\n",
    "def find_passed(marks_dict, cutoffs):\n",
    "        \"\"\" Find students who passed for each subject \"\"\"\n",
    "\n",
    "        pass_dict = collections.defaultdict(list)\n",
    "\n",
    "        # two dicts to single dictionary using 'dict comprehension'\n",
    "        selectors = {(subject, student) :cutoffs[subject]<=val[subject] for \n",
    "                      subject in cutoffs for student,val in marks_dict.items()}\n",
    "        print \"SELECTORS =>\", selectors\n",
    "        # Select students who passed using itertools.compress\n",
    "        passd = list(itertools.compress(selectors.keys(), selectors.values()))\n",
    "        \n",
    "        # Create dictionary using defaultdict(list)\n",
    "        for subject,student in passd:\n",
    "            pass_dict[subject].append(student)\n",
    "            \n",
    "        return pass_dict\n",
    "    \n",
    "find_passed(marks_dict, cutoffs)"
   ]
  },
  {
   "cell_type": "code",
   "execution_count": 9,
   "metadata": {},
   "outputs": [
    {
     "name": "stdout",
     "output_type": "stream",
     "text": [
      "defaultdict(<type 'int'>, {'a': 4, 'c': 4, 'e': 3, 'd': 1, 'h': 1, 'k': 1, 'm': 1, 'o': 4, 'n': 1, 'p': 2, 'r': 3, 't': 1, 'w': 2, 'v': 1})\n",
      "['U.S', 'U.K', 'India']\n"
     ]
    },
    {
     "data": {
      "text/plain": [
       "[('idiomatic_workshop.py', 10663L),\n",
       " ('iterators.md', 17706L),\n",
       " ('idiomatic.md', 23860L),\n",
       " ('idiomatic_workshop.ipynb', 33498L),\n",
       " ('PSSI.pdf', 166270L),\n",
       " ('idiomatic.html', 167414L),\n",
       " ('InterPython.zip', 579265L)]"
      ]
     },
     "execution_count": 9,
     "metadata": {},
     "output_type": "execute_result"
    }
   ],
   "source": [
    "import os\n",
    "import itertools\n",
    "import operator\n",
    "import collections\n",
    "\n",
    "birds = ['parrot','crow','dove','peacock','macaw','hen']\n",
    "frequency = collections.defaultdict(int)\n",
    "    \n",
    "for letter in itertools.chain(*birds): \n",
    "    frequency[letter] += 1                  \n",
    "print frequency\n",
    "\n",
    "# takewhile returns elements as long as a predicate(condition) is True.\n",
    "\n",
    "# Give list of favorable countries\n",
    "countries=['U.S','U.K','India','Australia','Malaysia','Pakistan']           \n",
    "print list(itertools.takewhile(lambda x: x != 'Australia', countries))\n",
    "\n",
    "# dropwhile keeps dropping elements while predicate is True.\n",
    "\n",
    "# Produce iterator of files > a minimum size in current folder.\n",
    "files = sorted([(file, os.path.getsize(file)) for file in os.listdir(\".\")],\n",
    "                key=operator.itemgetter(1))\n",
    "list(itertools.dropwhile(lambda x: x[1] < 8192, files))        "
   ]
  },
  {
   "cell_type": "code",
   "execution_count": 31,
   "metadata": {},
   "outputs": [
    {
     "name": "stdout",
     "output_type": "stream",
     "text": [
      "Stocks to trade are ['GLB', 'TRA', 'REL']\n"
     ]
    }
   ],
   "source": [
    "# Stocks of interest\n",
    "stocks = ['REL','INF','GLB','ACC','JIN','TRA','PAC']\n",
    "\n",
    "# His conditions, given as the dictionary entry\n",
    "# 'SYMBOL': (limit value, comparison operator)\n",
    "\n",
    "stock_limits = {'REL' : (1200, '>='),\n",
    "                'INF': (2500, '>'),\n",
    "                'GLB': (850, '<'),\n",
    "                'ACC': (1330, '=='),\n",
    "                'JIN': (720, '<='),\n",
    "                'TRA': (1800, '>='),\n",
    "                'PAC': (95, '>')}\n",
    "\n",
    "# Input - Current Market Price of the securities\n",
    "stock_prices = {'REL': 1222,\n",
    "                'INF': 2312,\n",
    "                'GLB': 829,\n",
    "                'ACC': 1335,\n",
    "                'JIN': 755,\n",
    "                'TRA': 1889,\n",
    "                'PAC': 85}\n",
    "\n",
    "\n",
    "# Problem - Get the list of securities he should trade on.\n",
    "\n",
    "# Here is a basic implementation\n",
    "def stocks_to_trade(conditions, prices):\n",
    "    \"\"\" Find stocks to trade in \"\"\"\n",
    "\n",
    "    stocks = []\n",
    "    \n",
    "    for stock in conditions:\n",
    "        limit, check = conditions[stock]\n",
    "        # Apply the condition - Use operator module to\n",
    "        # match the string to the condition\n",
    "        price = prices[stock]\n",
    "        ok = eval('%d %s %d' % (price, check, limit))\n",
    "        \n",
    "        if ok:\n",
    "            stocks.append(stock)\n",
    "\n",
    "    print 'Stocks to trade are',stocks\n",
    "    \n",
    "stocks_to_trade(stock_limits, stock_prices)"
   ]
  },
  {
   "cell_type": "code",
   "execution_count": 32,
   "metadata": {},
   "outputs": [],
   "source": [
    "\"\"\" Problem 2 - Find circular primes \"\"\"\n",
    "\n",
    "sieve = lambda n: not any(n % num==0 for num in range(2, int(pow(n,0.5))+1))\n",
    "\n",
    "def rotations(num):\n",
    "    \"\"\" Get all rotations of a number \"\"\"\n",
    "\n",
    "    # abc => bca, cab\n",
    "    s = str(num)\n",
    "    st = s*2\n",
    "    return [int(st[i:i+len(s)]) for i in range(1,len(s))]\n",
    "    \n",
    "    \n",
    "# Basic implementation\n",
    "def circular_prime(limit):\n",
    "    \"\"\" Find circular primes < limit \"\"\"\n",
    "\n",
    "    for i in range(2, limit):\n",
    "        if sieve(i) and all(sieve(x) for x in rotations(i)):\n",
    "            yield i\n",
    "            "
   ]
  },
  {
   "cell_type": "code",
   "execution_count": 33,
   "metadata": {},
   "outputs": [
    {
     "name": "stdout",
     "output_type": "stream",
     "text": [
      "2\n",
      "3\n",
      "5\n",
      "7\n",
      "11\n",
      "13\n",
      "17\n",
      "31\n",
      "37\n",
      "71\n",
      "73\n",
      "79\n",
      "97\n"
     ]
    }
   ],
   "source": [
    "for i in circular_prime(100):\n",
    "    print i"
   ]
  },
  {
   "cell_type": "code",
   "execution_count": 34,
   "metadata": {},
   "outputs": [
    {
     "name": "stdout",
     "output_type": "stream",
     "text": [
      "[62, 75, 5, 13, 98]\n"
     ]
    }
   ],
   "source": [
    "# Solution A\n",
    "# Append numbers till you hit say 41\n",
    "\n",
    "nums = []        \n",
    "sentinel = 41\n",
    "\n",
    "while True:\n",
    "    num = random.randrange(1, 100)\n",
    "    if num == sentinel: break\n",
    "    nums.append(num)\n",
    "    \n",
    "print nums"
   ]
  },
  {
   "cell_type": "code",
   "execution_count": 42,
   "metadata": {},
   "outputs": [
    {
     "name": "stdout",
     "output_type": "stream",
     "text": [
      "[8, 66, 6, 99, 11, 20, 55, 95, 2, 47, 42, 20, 52, 57, 17]\n"
     ]
    },
    {
     "data": {
      "text/plain": [
       "[29, 39, 13, 78, 10, 24, 81, 5, 96, 15, 1, 92, 19, 13, 14, 13, 42, 7, 52]"
      ]
     },
     "execution_count": 42,
     "metadata": {},
     "output_type": "execute_result"
    }
   ],
   "source": [
    " # Solution B1\n",
    "import functools\n",
    "from itertools import takewhile, imap, cycle\n",
    "\n",
    "func = functools.partial(random.randrange, 1, 100) \n",
    "nums, sentinel = [], 41\n",
    "\n",
    "for num in iter(func, sentinel):    \n",
    "    nums.append(num)\n",
    "\n",
    "print nums\n",
    "# Solution B2\n",
    "# WARNING: This itertools solution is almost like magic.\n",
    "sentinel=49\n",
    "list(takewhile(lambda x: x!=sentinel, imap(random.randrange, cycle([1]), cycle([100]))))       "
   ]
  },
  {
   "cell_type": "code",
   "execution_count": 44,
   "metadata": {},
   "outputs": [
    {
     "ename": "TypeError",
     "evalue": "Wrong type!",
     "output_type": "error",
     "traceback": [
      "\u001b[1;31m---------------------------------------------------------------------------\u001b[0m\n\u001b[1;31mTypeError\u001b[0m                                 Traceback (most recent call last)",
      "\u001b[1;32m<ipython-input-44-6e5e0b857bdc>\u001b[0m in \u001b[0;36m<module>\u001b[1;34m()\u001b[0m\n\u001b[0;32m     17\u001b[0m \u001b[1;32mprint\u001b[0m \u001b[0mmul\u001b[0m\u001b[1;33m(\u001b[0m\u001b[1;36m5\u001b[0m\u001b[1;33m,\u001b[0m \u001b[1;36m10\u001b[0m\u001b[1;33m)\u001b[0m\u001b[1;33m\u001b[0m\u001b[0m\n\u001b[0;32m     18\u001b[0m \u001b[1;33m\u001b[0m\u001b[0m\n\u001b[1;32m---> 19\u001b[1;33m \u001b[0madd\u001b[0m\u001b[1;33m(\u001b[0m\u001b[1;36m3\u001b[0m\u001b[1;33m,\u001b[0m \u001b[1;34m'me'\u001b[0m\u001b[1;33m)\u001b[0m\u001b[1;33m\u001b[0m\u001b[0m\n\u001b[0m\u001b[0;32m     20\u001b[0m \u001b[0mmul\u001b[0m\u001b[1;33m(\u001b[0m\u001b[1;36m5\u001b[0m\u001b[1;33m,\u001b[0m \u001b[0mNone\u001b[0m\u001b[1;33m)\u001b[0m\u001b[1;33m\u001b[0m\u001b[0m\n\u001b[0;32m     21\u001b[0m \u001b[1;33m\u001b[0m\u001b[0m\n",
      "\u001b[1;32m<ipython-input-44-6e5e0b857bdc>\u001b[0m in \u001b[0;36mwrapper\u001b[1;34m(*args)\u001b[0m\n\u001b[0;32m      2\u001b[0m     \u001b[1;32mdef\u001b[0m \u001b[0mwrapper\u001b[0m\u001b[1;33m(\u001b[0m\u001b[1;33m*\u001b[0m\u001b[0margs\u001b[0m\u001b[1;33m)\u001b[0m\u001b[1;33m:\u001b[0m\u001b[1;33m\u001b[0m\u001b[0m\n\u001b[0;32m      3\u001b[0m         \u001b[1;32mif\u001b[0m \u001b[1;32mnot\u001b[0m \u001b[0mall\u001b[0m\u001b[1;33m(\u001b[0m\u001b[0mtype\u001b[0m\u001b[1;33m(\u001b[0m\u001b[0mitem\u001b[0m\u001b[1;33m)\u001b[0m \u001b[1;32min\u001b[0m \u001b[1;33m(\u001b[0m\u001b[0mint\u001b[0m\u001b[1;33m,\u001b[0m \u001b[0mfloat\u001b[0m\u001b[1;33m)\u001b[0m \u001b[1;32mfor\u001b[0m \u001b[0mitem\u001b[0m \u001b[1;32min\u001b[0m \u001b[0margs\u001b[0m\u001b[1;33m)\u001b[0m\u001b[1;33m:\u001b[0m\u001b[1;33m\u001b[0m\u001b[0m\n\u001b[1;32m----> 4\u001b[1;33m             \u001b[1;32mraise\u001b[0m \u001b[0mTypeError\u001b[0m\u001b[1;33m,\u001b[0m\u001b[1;34m'Wrong type!'\u001b[0m\u001b[1;33m\u001b[0m\u001b[0m\n\u001b[0m\u001b[0;32m      5\u001b[0m         \u001b[1;32mreturn\u001b[0m \u001b[0mf\u001b[0m\u001b[1;33m(\u001b[0m\u001b[1;33m*\u001b[0m\u001b[0margs\u001b[0m\u001b[1;33m)\u001b[0m\u001b[1;33m\u001b[0m\u001b[0m\n\u001b[0;32m      6\u001b[0m     \u001b[1;32mreturn\u001b[0m \u001b[0mwrapper\u001b[0m\u001b[1;33m\u001b[0m\u001b[0m\n",
      "\u001b[1;31mTypeError\u001b[0m: Wrong type!"
     ]
    },
    {
     "name": "stdout",
     "output_type": "stream",
     "text": [
      "8\n",
      "50\n"
     ]
    }
   ],
   "source": [
    "def isNumber(f):\n",
    "    def wrapper(*args):\n",
    "        if not all(type(item) in (int, float) for item in args):\n",
    "            raise TypeError,'Wrong type!'\n",
    "        return f(*args)\n",
    "    return wrapper\n",
    "\n",
    "@isNumber\n",
    "def add(x,y):\n",
    "    return x+y\n",
    "        \n",
    "@isNumber\n",
    "def mul(x,y):\n",
    "    return x*y\n",
    "\n",
    "print add(3, 5)\n",
    "print mul(5, 10)\n",
    "\n",
    "add(3, 'me')\n",
    "mul(5, None)\n",
    "\n"
   ]
  },
  {
   "cell_type": "code",
   "execution_count": 46,
   "metadata": {},
   "outputs": [
    {
     "name": "stdout",
     "output_type": "stream",
     "text": [
      "120\n",
      "From cache\n",
      "120\n",
      "3628800\n",
      "From cache\n",
      "3628800\n"
     ]
    }
   ],
   "source": [
    "def cache(f):\n",
    "    results = {}\n",
    "    def wrapper(*args):\n",
    "        if args in results:\n",
    "            print 'From cache'\n",
    "            return results[args]\n",
    "        res = f(*args)\n",
    "        results[args] = res\n",
    "        return res\n",
    "    return wrapper\n",
    "\n",
    "@cache\n",
    "def factorial(n):\n",
    "    return reduce(lambda x,y: x*y, range(1,n+1))\n",
    "\n",
    "print factorial(5)\n",
    "print factorial(5)\n",
    "print factorial(10)\n",
    "print factorial(10)"
   ]
  },
  {
   "cell_type": "code",
   "execution_count": 47,
   "metadata": {},
   "outputs": [
    {
     "name": "stdout",
     "output_type": "stream",
     "text": [
      "Found words at ./idiomatic.md\n"
     ]
    }
   ],
   "source": [
    "import os\n",
    "import sys\n",
    "\n",
    "def check(filename, *words):\n",
    "    \"\"\" Find if the words are present in the file \"\"\"\n",
    "\n",
    "    content = open(filename).read().lower().split()\n",
    "    return all(word in content for word in words)\n",
    "    \n",
    "def word_checker(folder, *words):\n",
    "    \"\"\" Check a folder for a file containing the\n",
    "    list of words. Stop after first word \"\"\"\n",
    "\n",
    "    found = False\n",
    "    # Do this recursively\n",
    "    for root, dirs, files in os.walk(folder):\n",
    "        if found: break\n",
    "        \n",
    "        for fname in files:\n",
    "            fullpath = os.path.join(root, fname)\n",
    "            if check(fullpath, *words):\n",
    "                print 'Found words at',fullpath\n",
    "                found = True\n",
    "                break\n",
    "                \n",
    "word_checker(\".\", 'python','pycon')"
   ]
  },
  {
   "cell_type": "code",
   "execution_count": 50,
   "metadata": {},
   "outputs": [
    {
     "name": "stdout",
     "output_type": "stream",
     "text": [
      "\tThis is number 2\n",
      "\t\tThis is its square 4\n",
      "\tThis is number 3\n",
      "\t\tThis is its square 9\n",
      "\tThis is number 4\n",
      "\t\tThis is its square 16\n"
     ]
    }
   ],
   "source": [
    "from contextlib import contextmanager\n",
    "\n",
    "spaces = 0\n",
    "\n",
    "@contextmanager\n",
    "def indent():\n",
    "    global spaces\n",
    "    spaces += 1\n",
    "    print '\\t'*spaces,\n",
    "    yield\n",
    "    spaces -= 1    \n",
    "\n",
    "\n",
    "for i in range(2,5):\n",
    "    with indent(): \n",
    "        print 'This is number',i\n",
    "        # Indent more\n",
    "        with indent(): \n",
    "            print 'This is its square',i*i"
   ]
  },
  {
   "cell_type": "code",
   "execution_count": 51,
   "metadata": {},
   "outputs": [
    {
     "name": "stdout",
     "output_type": "stream",
     "text": [
      "\tThis is number 2\n",
      "\t\tThis is its square 4\n",
      "\tThis is number 3\n",
      "\t\tThis is its square 9\n",
      "\tThis is number 4\n",
      "\t\tThis is its square 16\n"
     ]
    }
   ],
   "source": [
    "class Indent(object):\n",
    "    def __init__(self):\n",
    "        self.spaces = 0\n",
    "        \n",
    "    def __enter__(self):\n",
    "        self.spaces += 1\n",
    "        print '\\t'*self.spaces,\n",
    "\n",
    "    def __exit__(self, type, value, traceback):\n",
    "        self.spaces -= 1\n",
    "        \n",
    "for i in range(2,5):\n",
    "    # Indenter has to be created once and reused, or should be a Singleton\n",
    "    indenter = Indent()\n",
    "    with indenter:\n",
    "        print 'This is number',i\n",
    "        with indenter:\n",
    "            print 'This is its square',i*i  "
   ]
  },
  {
   "cell_type": "code",
   "execution_count": 0,
   "metadata": {},
   "outputs": [],
   "source": []
  }
 ],
 "metadata": {
  "kernelspec": {
   "display_name": "Python 2",
   "language": "python",
   "name": "python2"
  },
  "language_info": {
   "codemirror_mode": {
    "name": "ipython",
    "version": 2
   },
   "file_extension": ".py",
   "mimetype": "text/x-python",
   "name": "python",
   "nbconvert_exporter": "python",
   "pygments_lexer": "ipython2",
   "version": "2.7.15rc1"
  }
 },
 "nbformat": 4,
 "nbformat_minor": 1
}
